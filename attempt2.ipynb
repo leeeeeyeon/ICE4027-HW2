{
  "cells": [
    {
      "cell_type": "markdown",
      "metadata": {
        "id": "view-in-github",
        "colab_type": "text"
      },
      "source": [
        "<a href=\"https://colab.research.google.com/github/leeeeeyeon/ICE4101-HW2/blob/main/attempt2.ipynb\" target=\"_parent\"><img src=\"https://colab.research.google.com/assets/colab-badge.svg\" alt=\"Open In Colab\"/></a>"
      ]
    },
    {
      "cell_type": "markdown",
      "source": [
        "# HW2\n",
        "\n",
        "*   Submit result analysis report (within 6 pages, at least 3 pages, pdf format)\n",
        "*   **Analysis of experimental results by modifying hyperparameters**\n",
        "(e.g. epoch, learning rate, optimizer, activation function ..)\n",
        "*   **Analysis and discussion through various experiments** is more important than improving performance\n",
        "*   Active use of tables and graphs\n",
        "*   If necessary, attach a link to your colab code\n",
        "*   Code is based on ResNet-50\n",
        "\n",
        "\n",
        "\n",
        "\n",
        "\n",
        "\n"
      ],
      "metadata": {
        "id": "o-uBl7-zuUNa"
      }
    },
    {
      "cell_type": "markdown",
      "source": [
        "# 1.Install TensorFlow 2.1.0"
      ],
      "metadata": {
        "id": "cgc8jD09hGas"
      }
    },
    {
      "cell_type": "code",
      "source": [
        "import tensorflow as tf\n",
        "tf.__version__"
      ],
      "metadata": {
        "colab": {
          "base_uri": "https://localhost:8080/",
          "height": 37
        },
        "id": "S4vW3uSZO5aV",
        "outputId": "fc369572-59e5-42b5-ba16-28bdf2f3ad50"
      },
      "execution_count": 1,
      "outputs": [
        {
          "output_type": "execute_result",
          "data": {
            "text/plain": [
              "'2.1.0'"
            ],
            "application/vnd.google.colaboratory.intrinsic+json": {
              "type": "string"
            }
          },
          "metadata": {},
          "execution_count": 1
        }
      ]
    },
    {
      "cell_type": "code",
      "source": [
        "!pip uninstall tensorflow\n",
        "!pip install tensorflow==2.1.0"
      ],
      "metadata": {
        "colab": {
          "base_uri": "https://localhost:8080/",
          "height": 1000
        },
        "id": "LkchjzXKO_5Q",
        "outputId": "3416bcba-6805-42eb-92ab-5c3b45eb21a6"
      },
      "execution_count": 2,
      "outputs": [
        {
          "output_type": "stream",
          "name": "stdout",
          "text": [
            "Found existing installation: tensorflow 2.1.0\n",
            "Uninstalling tensorflow-2.1.0:\n",
            "  Would remove:\n",
            "    /usr/local/bin/estimator_ckpt_converter\n",
            "    /usr/local/bin/saved_model_cli\n",
            "    /usr/local/bin/tensorboard\n",
            "    /usr/local/bin/tf_upgrade_v2\n",
            "    /usr/local/bin/tflite_convert\n",
            "    /usr/local/bin/toco\n",
            "    /usr/local/bin/toco_from_protos\n",
            "    /usr/local/lib/python3.7/dist-packages/tensorflow-2.1.0.dist-info/*\n",
            "    /usr/local/lib/python3.7/dist-packages/tensorflow/*\n",
            "    /usr/local/lib/python3.7/dist-packages/tensorflow_core/*\n",
            "Proceed (y/n)? y\n",
            "  Successfully uninstalled tensorflow-2.1.0\n",
            "Looking in indexes: https://pypi.org/simple, https://us-python.pkg.dev/colab-wheels/public/simple/\n",
            "Collecting tensorflow==2.1.0\n",
            "  Using cached tensorflow-2.1.0-cp37-cp37m-manylinux2010_x86_64.whl (421.8 MB)\n",
            "Requirement already satisfied: astor>=0.6.0 in /usr/local/lib/python3.7/dist-packages (from tensorflow==2.1.0) (0.8.1)\n",
            "Requirement already satisfied: keras-applications>=1.0.8 in /usr/local/lib/python3.7/dist-packages (from tensorflow==2.1.0) (1.0.8)\n",
            "Requirement already satisfied: wrapt>=1.11.1 in /usr/local/lib/python3.7/dist-packages (from tensorflow==2.1.0) (1.14.1)\n",
            "Requirement already satisfied: tensorboard<2.2.0,>=2.1.0 in /usr/local/lib/python3.7/dist-packages (from tensorflow==2.1.0) (2.1.1)\n",
            "Requirement already satisfied: numpy<2.0,>=1.16.0 in /usr/local/lib/python3.7/dist-packages (from tensorflow==2.1.0) (1.21.6)\n",
            "Requirement already satisfied: keras-preprocessing>=1.1.0 in /usr/local/lib/python3.7/dist-packages (from tensorflow==2.1.0) (1.1.2)\n",
            "Requirement already satisfied: termcolor>=1.1.0 in /usr/local/lib/python3.7/dist-packages (from tensorflow==2.1.0) (1.1.0)\n",
            "Requirement already satisfied: wheel>=0.26 in /usr/local/lib/python3.7/dist-packages (from tensorflow==2.1.0) (0.37.1)\n",
            "Requirement already satisfied: six>=1.12.0 in /usr/local/lib/python3.7/dist-packages (from tensorflow==2.1.0) (1.15.0)\n",
            "Requirement already satisfied: scipy==1.4.1 in /usr/local/lib/python3.7/dist-packages (from tensorflow==2.1.0) (1.4.1)\n",
            "Requirement already satisfied: opt-einsum>=2.3.2 in /usr/local/lib/python3.7/dist-packages (from tensorflow==2.1.0) (3.3.0)\n",
            "Requirement already satisfied: tensorflow-estimator<2.2.0,>=2.1.0rc0 in /usr/local/lib/python3.7/dist-packages (from tensorflow==2.1.0) (2.1.0)\n",
            "Requirement already satisfied: gast==0.2.2 in /usr/local/lib/python3.7/dist-packages (from tensorflow==2.1.0) (0.2.2)\n",
            "Requirement already satisfied: google-pasta>=0.1.6 in /usr/local/lib/python3.7/dist-packages (from tensorflow==2.1.0) (0.2.0)\n",
            "Requirement already satisfied: grpcio>=1.8.6 in /usr/local/lib/python3.7/dist-packages (from tensorflow==2.1.0) (1.46.1)\n",
            "Requirement already satisfied: protobuf>=3.8.0 in /usr/local/lib/python3.7/dist-packages (from tensorflow==2.1.0) (3.17.3)\n",
            "Requirement already satisfied: absl-py>=0.7.0 in /usr/local/lib/python3.7/dist-packages (from tensorflow==2.1.0) (1.0.0)\n",
            "Requirement already satisfied: h5py in /usr/local/lib/python3.7/dist-packages (from keras-applications>=1.0.8->tensorflow==2.1.0) (3.1.0)\n",
            "Requirement already satisfied: markdown>=2.6.8 in /usr/local/lib/python3.7/dist-packages (from tensorboard<2.2.0,>=2.1.0->tensorflow==2.1.0) (3.3.7)\n",
            "Requirement already satisfied: setuptools>=41.0.0 in /usr/local/lib/python3.7/dist-packages (from tensorboard<2.2.0,>=2.1.0->tensorflow==2.1.0) (57.4.0)\n",
            "Requirement already satisfied: google-auth-oauthlib<0.5,>=0.4.1 in /usr/local/lib/python3.7/dist-packages (from tensorboard<2.2.0,>=2.1.0->tensorflow==2.1.0) (0.4.6)\n",
            "Requirement already satisfied: google-auth<2,>=1.6.3 in /usr/local/lib/python3.7/dist-packages (from tensorboard<2.2.0,>=2.1.0->tensorflow==2.1.0) (1.35.0)\n",
            "Requirement already satisfied: requests<3,>=2.21.0 in /usr/local/lib/python3.7/dist-packages (from tensorboard<2.2.0,>=2.1.0->tensorflow==2.1.0) (2.23.0)\n",
            "Requirement already satisfied: werkzeug>=0.11.15 in /usr/local/lib/python3.7/dist-packages (from tensorboard<2.2.0,>=2.1.0->tensorflow==2.1.0) (1.0.1)\n",
            "Requirement already satisfied: rsa<5,>=3.1.4 in /usr/local/lib/python3.7/dist-packages (from google-auth<2,>=1.6.3->tensorboard<2.2.0,>=2.1.0->tensorflow==2.1.0) (4.8)\n",
            "Requirement already satisfied: pyasn1-modules>=0.2.1 in /usr/local/lib/python3.7/dist-packages (from google-auth<2,>=1.6.3->tensorboard<2.2.0,>=2.1.0->tensorflow==2.1.0) (0.2.8)\n",
            "Requirement already satisfied: cachetools<5.0,>=2.0.0 in /usr/local/lib/python3.7/dist-packages (from google-auth<2,>=1.6.3->tensorboard<2.2.0,>=2.1.0->tensorflow==2.1.0) (4.2.4)\n",
            "Requirement already satisfied: requests-oauthlib>=0.7.0 in /usr/local/lib/python3.7/dist-packages (from google-auth-oauthlib<0.5,>=0.4.1->tensorboard<2.2.0,>=2.1.0->tensorflow==2.1.0) (1.3.1)\n",
            "Requirement already satisfied: importlib-metadata>=4.4 in /usr/local/lib/python3.7/dist-packages (from markdown>=2.6.8->tensorboard<2.2.0,>=2.1.0->tensorflow==2.1.0) (4.11.3)\n",
            "Requirement already satisfied: typing-extensions>=3.6.4 in /usr/local/lib/python3.7/dist-packages (from importlib-metadata>=4.4->markdown>=2.6.8->tensorboard<2.2.0,>=2.1.0->tensorflow==2.1.0) (4.2.0)\n",
            "Requirement already satisfied: zipp>=0.5 in /usr/local/lib/python3.7/dist-packages (from importlib-metadata>=4.4->markdown>=2.6.8->tensorboard<2.2.0,>=2.1.0->tensorflow==2.1.0) (3.8.0)\n",
            "Requirement already satisfied: pyasn1<0.5.0,>=0.4.6 in /usr/local/lib/python3.7/dist-packages (from pyasn1-modules>=0.2.1->google-auth<2,>=1.6.3->tensorboard<2.2.0,>=2.1.0->tensorflow==2.1.0) (0.4.8)\n",
            "Requirement already satisfied: certifi>=2017.4.17 in /usr/local/lib/python3.7/dist-packages (from requests<3,>=2.21.0->tensorboard<2.2.0,>=2.1.0->tensorflow==2.1.0) (2022.5.18.1)\n",
            "Requirement already satisfied: urllib3!=1.25.0,!=1.25.1,<1.26,>=1.21.1 in /usr/local/lib/python3.7/dist-packages (from requests<3,>=2.21.0->tensorboard<2.2.0,>=2.1.0->tensorflow==2.1.0) (1.24.3)\n",
            "Requirement already satisfied: chardet<4,>=3.0.2 in /usr/local/lib/python3.7/dist-packages (from requests<3,>=2.21.0->tensorboard<2.2.0,>=2.1.0->tensorflow==2.1.0) (3.0.4)\n",
            "Requirement already satisfied: idna<3,>=2.5 in /usr/local/lib/python3.7/dist-packages (from requests<3,>=2.21.0->tensorboard<2.2.0,>=2.1.0->tensorflow==2.1.0) (2.10)\n",
            "Requirement already satisfied: oauthlib>=3.0.0 in /usr/local/lib/python3.7/dist-packages (from requests-oauthlib>=0.7.0->google-auth-oauthlib<0.5,>=0.4.1->tensorboard<2.2.0,>=2.1.0->tensorflow==2.1.0) (3.2.0)\n",
            "Requirement already satisfied: cached-property in /usr/local/lib/python3.7/dist-packages (from h5py->keras-applications>=1.0.8->tensorflow==2.1.0) (1.5.2)\n",
            "Installing collected packages: tensorflow\n",
            "Successfully installed tensorflow-2.1.0\n"
          ]
        },
        {
          "output_type": "display_data",
          "data": {
            "application/vnd.colab-display-data+json": {
              "pip_warning": {
                "packages": [
                  "tensorflow",
                  "tensorflow_core"
                ]
              }
            }
          },
          "metadata": {}
        }
      ]
    },
    {
      "cell_type": "markdown",
      "source": [
        "# 2.Runtime restart\n",
        "\n",
        "**런타임 -> 런타임 다시 시작 -> 다음 코드 진행**"
      ],
      "metadata": {
        "id": "PCe8FggEZimh"
      }
    },
    {
      "cell_type": "markdown",
      "source": [
        "# 3.Prepare dataset"
      ],
      "metadata": {
        "id": "z3JBDs8YhThj"
      }
    },
    {
      "cell_type": "code",
      "source": [
        "import tensorflow_datasets as tfds\n",
        "import tensorflow as tf\n",
        "\n",
        "#print(tfds.list_builders())\n",
        "dataset, info = tfds.load('fashion_mnist', as_supervised = True, with_info = True)\n",
        "dataset_test, dataset_train = dataset['test'], dataset['train']\n",
        "print(info)"
      ],
      "metadata": {
        "colab": {
          "base_uri": "https://localhost:8080/"
        },
        "id": "9UuRZP_QPCQj",
        "outputId": "7976be0d-3683-44c9-e9d4-dc5278189c8b"
      },
      "execution_count": 3,
      "outputs": [
        {
          "output_type": "stream",
          "name": "stdout",
          "text": [
            "tfds.core.DatasetInfo(\n",
            "    name='fashion_mnist',\n",
            "    version=3.0.1,\n",
            "    description='Fashion-MNIST is a dataset of Zalando's article images consisting of a training set of 60,000 examples and a test set of 10,000 examples. Each example is a 28x28 grayscale image, associated with a label from 10 classes.',\n",
            "    homepage='https://github.com/zalandoresearch/fashion-mnist',\n",
            "    features=FeaturesDict({\n",
            "        'image': Image(shape=(28, 28, 1), dtype=tf.uint8),\n",
            "        'label': ClassLabel(shape=(), dtype=tf.int64, num_classes=10),\n",
            "    }),\n",
            "    total_num_examples=70000,\n",
            "    splits={\n",
            "        'test': 10000,\n",
            "        'train': 60000,\n",
            "    },\n",
            "    supervised_keys=('image', 'label'),\n",
            "    citation=\"\"\"@article{DBLP:journals/corr/abs-1708-07747,\n",
            "      author    = {Han Xiao and\n",
            "                   Kashif Rasul and\n",
            "                   Roland Vollgraf},\n",
            "      title     = {Fashion-MNIST: a Novel Image Dataset for Benchmarking Machine Learning\n",
            "                   Algorithms},\n",
            "      journal   = {CoRR},\n",
            "      volume    = {abs/1708.07747},\n",
            "      year      = {2017},\n",
            "      url       = {http://arxiv.org/abs/1708.07747},\n",
            "      archivePrefix = {arXiv},\n",
            "      eprint    = {1708.07747},\n",
            "      timestamp = {Mon, 13 Aug 2018 16:47:27 +0200},\n",
            "      biburl    = {https://dblp.org/rec/bib/journals/corr/abs-1708-07747},\n",
            "      bibsource = {dblp computer science bibliography, https://dblp.org}\n",
            "    }\"\"\",\n",
            "    redistribution_info=,\n",
            ")\n",
            "\n"
          ]
        }
      ]
    },
    {
      "cell_type": "code",
      "source": [
        "def convert_types(image, label):\n",
        "    image = tf.cast(image, tf.float32)\n",
        "    image /= 255\n",
        "    return image, label\n",
        "\n",
        "batch_size = 256 # >>>>>>>>>>>>> hyperparameters <<<<<<<<<<<<<<<<<<\n",
        "\n",
        "dataset_train = dataset_train.map(convert_types).shuffle(10000).batch(batch_size)\n",
        "dataset_test = dataset_test.map(convert_types).batch(batch_size)"
      ],
      "metadata": {
        "id": "4rGtwLm0PEE2"
      },
      "execution_count": 4,
      "outputs": []
    },
    {
      "cell_type": "markdown",
      "source": [
        "# 4.Data Agumentation"
      ],
      "metadata": {
        "id": "JwIjNYfbhWpL"
      }
    },
    {
      "cell_type": "code",
      "source": [
        "from tensorflow.keras.preprocessing.image import ImageDataGenerator\n",
        "\n",
        "#datagen = ImageDataGenerator()\n",
        "datagen = ImageDataGenerator(rotation_range = 10, horizontal_flip = True, zoom_range = 0.1)\n"
      ],
      "metadata": {
        "id": "8sOFTmAaPFRx"
      },
      "execution_count": 5,
      "outputs": []
    },
    {
      "cell_type": "markdown",
      "source": [
        "# 5.Define model"
      ],
      "metadata": {
        "id": "QCNx3jNmhYTh"
      }
    },
    {
      "cell_type": "code",
      "source": [
        "from tensorflow.keras.layers import Conv2D, Dense, BatchNormalization, Activation, MaxPool2D, GlobalAveragePooling2D, Add\n",
        "from tensorflow.keras import Model\n",
        "\n",
        "class ResidualBlock(Model):\n",
        "    def __init__(self, channel_in = 64, channel_out = 256):\n",
        "        super().__init__()\n",
        "        \n",
        "        channel = channel_out // 4\n",
        "        \n",
        "        self.conv1 = Conv2D(channel, kernel_size = (1, 1), padding = \"same\")\n",
        "        self.bn1 = BatchNormalization()\n",
        "        self.av1 = Activation(tf.nn.relu)\n",
        "        self.conv2 = Conv2D(channel, kernel_size = (3, 3), padding = \"same\")\n",
        "        self.bn2 = BatchNormalization()\n",
        "        self.av2 = Activation(tf.nn.relu)\n",
        "        self.conv3 = Conv2D(channel_out, kernel_size = (1, 1), padding = \"same\")\n",
        "        self.bn3 = BatchNormalization()\n",
        "        self.shortcut = self._shortcut(channel_in, channel_out)\n",
        "        self.add = Add()\n",
        "        self.av3 = Activation(tf.nn.relu)\n",
        "        \n",
        "    def call(self, x):\n",
        "        h = self.conv1(x)\n",
        "        h = self.bn1(h)\n",
        "        h = self.av1(h)\n",
        "        h = self.conv2(h)\n",
        "        h = self.bn2(h)\n",
        "        h = self.av2(h)\n",
        "        h = self.conv3(h)\n",
        "        h = self.bn3(h)\n",
        "        shortcut = self.shortcut(x)\n",
        "        h = self.add([h, shortcut])\n",
        "        y = self.av3(h)\n",
        "        return y\n",
        "    \n",
        "    def _shortcut(self, channel_in, channel_out):\n",
        "        if channel_in == channel_out:\n",
        "            return lambda x : x\n",
        "        else:\n",
        "            return self._projection(channel_out)\n",
        "        \n",
        "    def _projection(self, channel_out):\n",
        "        return Conv2D(channel_out, kernel_size = (1, 1), padding = \"same\")\n",
        "           \n",
        "class ResNet50(Model):\n",
        "    def __init__(self, input_shape, output_dim):\n",
        "        super().__init__()                \n",
        "        \n",
        "        self._layers = [\n",
        "            # conv1\n",
        "            Conv2D(64, input_shape = input_shape, kernel_size = (7, 7), strides=(2, 2), padding = \"same\"),\n",
        "            BatchNormalization(),\n",
        "            Activation(tf.nn.relu),\n",
        "            # conv2_x\n",
        "            MaxPool2D(pool_size = (3, 3), strides = (2, 2), padding = \"same\"),\n",
        "            ResidualBlock(64, 256),\n",
        "            [\n",
        "                ResidualBlock(256, 256) for _ in range(2)                \n",
        "            ],\n",
        "            # conv3_x\n",
        "            Conv2D(512, kernel_size = (1, 1), strides=(2, 2)),\n",
        "            [\n",
        "                ResidualBlock(512, 512) for _ in range(4)                \n",
        "            ],\n",
        "            # conv4_x\n",
        "            Conv2D(1024, kernel_size = (1, 1), strides=(2, 2)),\n",
        "            [\n",
        "                ResidualBlock(1024, 1024) for _ in range(6)                \n",
        "            ],\n",
        "            # conv5_x\n",
        "            Conv2D(2048, kernel_size = (1, 1), strides=(2, 2)),\n",
        "            [\n",
        "                ResidualBlock(2048, 2048) for _ in range(3)\n",
        "            ],\n",
        "            # last part\n",
        "            GlobalAveragePooling2D(),\n",
        "            Dense(1000, activation = tf.nn.relu),\n",
        "            Dense(output_dim, activation = tf.nn.softmax)\n",
        "        ]\n",
        "        \n",
        "    def call(self, x):\n",
        "        for layer in self._layers:\n",
        "            if isinstance(layer, list):\n",
        "                for l in layer:\n",
        "                    x = l(x)    \n",
        "            else:\n",
        "                x = layer(x)\n",
        "        return x\n",
        "       \n",
        "    \n",
        "model = ResNet50((28, 28, 1), 10)\n",
        "model.build(input_shape = (None, 28, 28, 1))\n",
        "model.summary()"
      ],
      "metadata": {
        "colab": {
          "base_uri": "https://localhost:8080/"
        },
        "id": "jWJUZukSPGX_",
        "outputId": "d69729e8-2c96-42df-c1d4-6f95cd8f8081"
      },
      "execution_count": 6,
      "outputs": [
        {
          "output_type": "stream",
          "name": "stdout",
          "text": [
            "Model: \"res_net50\"\n",
            "_________________________________________________________________\n",
            "Layer (type)                 Output Shape              Param #   \n",
            "=================================================================\n",
            "conv2d (Conv2D)              multiple                  3200      \n",
            "_________________________________________________________________\n",
            "batch_normalization (BatchNo multiple                  256       \n",
            "_________________________________________________________________\n",
            "activation (Activation)      multiple                  0         \n",
            "_________________________________________________________________\n",
            "max_pooling2d (MaxPooling2D) multiple                  0         \n",
            "_________________________________________________________________\n",
            "residual_block (ResidualBloc multiple                  75904     \n",
            "_________________________________________________________________\n",
            "residual_block_1 (ResidualBl multiple                  71552     \n",
            "_________________________________________________________________\n",
            "residual_block_2 (ResidualBl multiple                  71552     \n",
            "_________________________________________________________________\n",
            "conv2d_11 (Conv2D)           multiple                  131584    \n",
            "_________________________________________________________________\n",
            "residual_block_3 (ResidualBl multiple                  282368    \n",
            "_________________________________________________________________\n",
            "residual_block_4 (ResidualBl multiple                  282368    \n",
            "_________________________________________________________________\n",
            "residual_block_5 (ResidualBl multiple                  282368    \n",
            "_________________________________________________________________\n",
            "residual_block_6 (ResidualBl multiple                  282368    \n",
            "_________________________________________________________________\n",
            "conv2d_24 (Conv2D)           multiple                  525312    \n",
            "_________________________________________________________________\n",
            "residual_block_7 (ResidualBl multiple                  1121792   \n",
            "_________________________________________________________________\n",
            "residual_block_8 (ResidualBl multiple                  1121792   \n",
            "_________________________________________________________________\n",
            "residual_block_9 (ResidualBl multiple                  1121792   \n",
            "_________________________________________________________________\n",
            "residual_block_10 (ResidualB multiple                  1121792   \n",
            "_________________________________________________________________\n",
            "residual_block_11 (ResidualB multiple                  1121792   \n",
            "_________________________________________________________________\n",
            "residual_block_12 (ResidualB multiple                  1121792   \n",
            "_________________________________________________________________\n",
            "conv2d_43 (Conv2D)           multiple                  2099200   \n",
            "_________________________________________________________________\n",
            "residual_block_13 (ResidualB multiple                  4471808   \n",
            "_________________________________________________________________\n",
            "residual_block_14 (ResidualB multiple                  4471808   \n",
            "_________________________________________________________________\n",
            "residual_block_15 (ResidualB multiple                  4471808   \n",
            "_________________________________________________________________\n",
            "global_average_pooling2d (Gl multiple                  0         \n",
            "_________________________________________________________________\n",
            "dense (Dense)                multiple                  2049000   \n",
            "_________________________________________________________________\n",
            "dense_1 (Dense)              multiple                  10010     \n",
            "=================================================================\n",
            "Total params: 26,313,218\n",
            "Trainable params: 26,267,778\n",
            "Non-trainable params: 45,440\n",
            "_________________________________________________________________\n"
          ]
        }
      ]
    },
    {
      "cell_type": "code",
      "source": [
        "# >>>>>>>>>>>>> hyperparameters <<<<<<<<<<<<<<<<<<\n",
        "\n",
        "loss_object = tf.keras.losses.SparseCategoricalCrossentropy()\n",
        "optimizer = tf.keras.optimizers.Adamax(lr=0.002, beta_1=0.9, beta_2=0.999, epsilon=None, decay=0.0)\n",
        "#optimizer = tf.keras.optimizers.SGD(learning_rate = 0.1, momentum = 0.9, decay =  0.0001)"
      ],
      "metadata": {
        "id": "Kq2-KWm1PIMB"
      },
      "execution_count": 7,
      "outputs": []
    },
    {
      "cell_type": "markdown",
      "source": [
        "# 6.Prepare training"
      ],
      "metadata": {
        "id": "N5ngl-FfhbUd"
      }
    },
    {
      "cell_type": "code",
      "source": [
        "train_loss = tf.keras.metrics.Mean(name = 'train_loss')\n",
        "train_accuracy = tf.keras.metrics.SparseCategoricalAccuracy(name = 'train_accuracy')\n",
        "\n",
        "test_loss = tf.keras.metrics.Mean(name = 'test_loss')\n",
        "test_accuracy = tf.keras.metrics.SparseCategoricalAccuracy(name = 'test_accuracy')\n"
      ],
      "metadata": {
        "id": "TlxiC91MPJmz"
      },
      "execution_count": 8,
      "outputs": []
    },
    {
      "cell_type": "code",
      "source": [
        "def train_step(image, label):\n",
        "    with tf.GradientTape() as tape:\n",
        "        predictions = model(image)\n",
        "        loss = loss_object(label, predictions)\n",
        "    gradients = tape.gradient(loss, model.trainable_variables)\n",
        "    optimizer.apply_gradients(zip(gradients, model.trainable_variables))\n",
        "    \n",
        "    train_loss(loss)\n",
        "    train_accuracy(label, predictions)\n",
        "        \n",
        "@tf.function\n",
        "def test_step(image, label):\n",
        "    predictions = model(image)\n",
        "    loss = loss_object(label, predictions)\n",
        "    \n",
        "    test_loss(loss)\n",
        "    test_accuracy(label, predictions)"
      ],
      "metadata": {
        "id": "mzY7PLXTPXdD"
      },
      "execution_count": 9,
      "outputs": []
    },
    {
      "cell_type": "markdown",
      "source": [
        "# 7.Train"
      ],
      "metadata": {
        "id": "NLuFGAArhc9d"
      }
    },
    {
      "cell_type": "code",
      "source": [
        "import time\n",
        "\n",
        "num_epoch = 30 # >>>>>>>>>>>>> hyperparameters <<<<<<<<<<<<<<<<<<\n",
        "start_time = time.time()\n",
        "\n",
        "train_accuracies = []\n",
        "test_accuracies = []\n",
        "\n",
        "train_losses = []\n",
        "test_losses = []\n",
        "\n",
        "for epoch in range(num_epoch):    \n",
        "    for image, label in dataset_train:\n",
        "        for _image, _label in datagen.flow(image, label, batch_size = batch_size):\n",
        "            train_step(_image, _label)\n",
        "            break\n",
        "        \n",
        "    for test_image, test_label in dataset_test:\n",
        "        test_step(test_image, test_label)\n",
        "        \n",
        "    train_accuracies.append(train_accuracy.result())\n",
        "    test_accuracies.append(test_accuracy.result()) \n",
        "    train_losses.append(train_loss.result())\n",
        "    test_losses.append(test_loss.result())   \n",
        "    \n",
        "    template = 'Epoch {}, Loss: {}, Accuracy: {}, Test Loss: {}, Test Accuracy: {}, spent_time: {} min'\n",
        "    spent_time = time.time() - start_time\n",
        "    print(template.format(epoch + 1, train_loss.result(), train_accuracy.result() * 100, test_loss.result(), test_accuracy.result() * 100, spent_time / 60))"
      ],
      "metadata": {
        "colab": {
          "base_uri": "https://localhost:8080/"
        },
        "id": "xnct6_UjPZOU",
        "outputId": "aeadbb01-6a18-4880-b1cd-2b8f72128976"
      },
      "execution_count": 10,
      "outputs": [
        {
          "output_type": "stream",
          "name": "stdout",
          "text": [
            "Epoch 1, Loss: 1.1050457954406738, Accuracy: 56.91499710083008, Test Loss: 0.6570246815681458, Test Accuracy: 75.66999816894531, spent_time: 1.189797282218933 min\n",
            "Epoch 2, Loss: 0.8346952199935913, Accuracy: 67.63166809082031, Test Loss: 0.584682047367096, Test Accuracy: 78.18499755859375, spent_time: 2.092452323436737 min\n",
            "Epoch 3, Loss: 0.7185883522033691, Accuracy: 72.33611297607422, Test Loss: 0.5419245958328247, Test Accuracy: 80.05333709716797, spent_time: 3.000150227546692 min\n",
            "Epoch 4, Loss: 0.6473098993301392, Accuracy: 75.14250183105469, Test Loss: 0.51129150390625, Test Accuracy: 81.09500122070312, spent_time: 3.8954431931177775 min\n",
            "Epoch 5, Loss: 0.5987772941589355, Accuracy: 77.04000091552734, Test Loss: 0.485065221786499, Test Accuracy: 82.08600616455078, spent_time: 4.7794596433639525 min\n",
            "Epoch 6, Loss: 0.5632897019386292, Accuracy: 78.40694427490234, Test Loss: 0.46604979038238525, Test Accuracy: 82.93333435058594, spent_time: 5.657492880026499 min\n",
            "Epoch 7, Loss: 0.5354785919189453, Accuracy: 79.47881317138672, Test Loss: 0.45447322726249695, Test Accuracy: 83.4414291381836, spent_time: 6.549938340981801 min\n",
            "Epoch 8, Loss: 0.5130148530006409, Accuracy: 80.36708068847656, Test Loss: 0.44179391860961914, Test Accuracy: 83.87749481201172, spent_time: 7.43489130338033 min\n",
            "Epoch 9, Loss: 0.4934849143028259, Accuracy: 81.13573455810547, Test Loss: 0.4291205406188965, Test Accuracy: 84.37777709960938, spent_time: 8.328355185190837 min\n",
            "Epoch 10, Loss: 0.47646862268447876, Accuracy: 81.80516815185547, Test Loss: 0.4183025062084198, Test Accuracy: 84.79100036621094, spent_time: 9.230419806639354 min\n",
            "Epoch 11, Loss: 0.4618166983127594, Accuracy: 82.38288116455078, Test Loss: 0.40879905223846436, Test Accuracy: 85.15727233886719, spent_time: 10.120858709017435 min\n",
            "Epoch 12, Loss: 0.4489400088787079, Accuracy: 82.8870849609375, Test Loss: 0.40403443574905396, Test Accuracy: 85.3550033569336, spent_time: 11.010670721530914 min\n",
            "Epoch 13, Loss: 0.43705183267593384, Accuracy: 83.35474395751953, Test Loss: 0.3966672122478485, Test Accuracy: 85.63922882080078, spent_time: 11.904909845193227 min\n",
            "Epoch 14, Loss: 0.42660287022590637, Accuracy: 83.75690460205078, Test Loss: 0.39064666628837585, Test Accuracy: 85.87071228027344, spent_time: 12.790466443697612 min\n",
            "Epoch 15, Loss: 0.4170686602592468, Accuracy: 84.1300048828125, Test Loss: 0.38386085629463196, Test Accuracy: 86.13066864013672, spent_time: 13.677419284979502 min\n",
            "Epoch 16, Loss: 0.40847429633140564, Accuracy: 84.47437286376953, Test Loss: 0.3791622221469879, Test Accuracy: 86.28562927246094, spent_time: 14.555788286526997 min\n",
            "Epoch 17, Loss: 0.40050703287124634, Accuracy: 84.78284454345703, Test Loss: 0.3738001883029938, Test Accuracy: 86.47999572753906, spent_time: 15.439984722932179 min\n",
            "Epoch 18, Loss: 0.392991304397583, Accuracy: 85.07860565185547, Test Loss: 0.36888644099235535, Test Accuracy: 86.6655502319336, spent_time: 16.32011343240738 min\n",
            "Epoch 19, Loss: 0.38619908690452576, Accuracy: 85.34078979492188, Test Loss: 0.36434292793273926, Test Accuracy: 86.84210968017578, spent_time: 17.21106816927592 min\n",
            "Epoch 20, Loss: 0.3796859681606293, Accuracy: 85.586669921875, Test Loss: 0.3599426746368408, Test Accuracy: 86.98899841308594, spent_time: 18.086643985907237 min\n",
            "Epoch 21, Loss: 0.3731735348701477, Accuracy: 85.83928680419922, Test Loss: 0.35666805505752563, Test Accuracy: 87.10143280029297, spent_time: 18.95626814762751 min\n",
            "Epoch 22, Loss: 0.36724087595939636, Accuracy: 86.06302642822266, Test Loss: 0.35354384779930115, Test Accuracy: 87.23681640625, spent_time: 19.827965867519378 min\n",
            "Epoch 23, Loss: 0.3616889715194702, Accuracy: 86.27485656738281, Test Loss: 0.3504093289375305, Test Accuracy: 87.37000274658203, spent_time: 20.702129006385803 min\n",
            "Epoch 24, Loss: 0.3563772141933441, Accuracy: 86.47534942626953, Test Loss: 0.3471059501171112, Test Accuracy: 87.51458740234375, spent_time: 21.577952015399934 min\n",
            "Epoch 25, Loss: 0.35147950053215027, Accuracy: 86.66099548339844, Test Loss: 0.3435870110988617, Test Accuracy: 87.65039825439453, spent_time: 22.446907846132913 min\n",
            "Epoch 26, Loss: 0.3467252254486084, Accuracy: 86.84089660644531, Test Loss: 0.34158962965011597, Test Accuracy: 87.73615264892578, spent_time: 23.31909608443578 min\n",
            "Epoch 27, Loss: 0.3422534167766571, Accuracy: 87.01036834716797, Test Loss: 0.33936935663223267, Test Accuracy: 87.8392562866211, spent_time: 24.18906364440918 min\n",
            "Epoch 28, Loss: 0.33801522850990295, Accuracy: 87.17666625976562, Test Loss: 0.3366786241531372, Test Accuracy: 87.93035888671875, spent_time: 25.055416945616404 min\n",
            "Epoch 29, Loss: 0.33383333683013916, Accuracy: 87.33821868896484, Test Loss: 0.33409303426742554, Test Accuracy: 88.021728515625, spent_time: 25.923990515867867 min\n",
            "Epoch 30, Loss: 0.3299289643764496, Accuracy: 87.48699951171875, Test Loss: 0.33140578866004944, Test Accuracy: 88.13099670410156, spent_time: 26.799376964569092 min\n"
          ]
        }
      ]
    },
    {
      "cell_type": "markdown",
      "source": [
        "# 8.Show transition of accuracy"
      ],
      "metadata": {
        "id": "qnjefd4ihgXp"
      }
    },
    {
      "cell_type": "code",
      "source": [
        "import matplotlib.pyplot as plt\n",
        "\n",
        "plt.plot(train_accuracies, label = 'Train Accuracy')\n",
        "plt.plot(test_accuracies, linestyle = 'dashed', label = 'Test Accuracy')\n",
        "plt.legend()\n",
        "plt.show()                                                                                                                  "
      ],
      "metadata": {
        "colab": {
          "base_uri": "https://localhost:8080/",
          "height": 265
        },
        "id": "2J4dnBhqPak3",
        "outputId": "76d52545-966b-4978-be36-fea0eb67a49f"
      },
      "execution_count": 11,
      "outputs": [
        {
          "output_type": "display_data",
          "data": {
            "text/plain": [
              "<Figure size 432x288 with 1 Axes>"
            ],
            "image/png": "[encoded data removed]"
          },
          "metadata": {
            "needs_background": "light"
          }
        }
      ]
    },
    {
      "cell_type": "code",
      "source": [
        "print(train_accuracies)\n",
        "print(test_accuracies)\n",
        "\n",
        "print(train_losses)\n",
        "print(test_losses)"
      ],
      "metadata": {
        "colab": {
          "base_uri": "https://localhost:8080/"
        },
        "id": "xX4qcKqAveF6",
        "outputId": "0997646e-b089-4697-fe2d-7e9600b92ac5"
      },
      "execution_count": 12,
      "outputs": [
        {
          "output_type": "stream",
          "name": "stdout",
          "text": [
            "[<tf.Tensor: shape=(), dtype=float32, numpy=0.56915>, <tf.Tensor: shape=(), dtype=float32, numpy=0.6763167>, <tf.Tensor: shape=(), dtype=float32, numpy=0.72336113>, <tf.Tensor: shape=(), dtype=float32, numpy=0.751425>, <tf.Tensor: shape=(), dtype=float32, numpy=0.7704>, <tf.Tensor: shape=(), dtype=float32, numpy=0.7840694>, <tf.Tensor: shape=(), dtype=float32, numpy=0.7947881>, <tf.Tensor: shape=(), dtype=float32, numpy=0.8036708>, <tf.Tensor: shape=(), dtype=float32, numpy=0.8113574>, <tf.Tensor: shape=(), dtype=float32, numpy=0.8180517>, <tf.Tensor: shape=(), dtype=float32, numpy=0.8238288>, <tf.Tensor: shape=(), dtype=float32, numpy=0.82887083>, <tf.Tensor: shape=(), dtype=float32, numpy=0.8335474>, <tf.Tensor: shape=(), dtype=float32, numpy=0.83756906>, <tf.Tensor: shape=(), dtype=float32, numpy=0.8413>, <tf.Tensor: shape=(), dtype=float32, numpy=0.8447437>, <tf.Tensor: shape=(), dtype=float32, numpy=0.84782845>, <tf.Tensor: shape=(), dtype=float32, numpy=0.8507861>, <tf.Tensor: shape=(), dtype=float32, numpy=0.8534079>, <tf.Tensor: shape=(), dtype=float32, numpy=0.8558667>, <tf.Tensor: shape=(), dtype=float32, numpy=0.85839283>, <tf.Tensor: shape=(), dtype=float32, numpy=0.8606303>, <tf.Tensor: shape=(), dtype=float32, numpy=0.86274856>, <tf.Tensor: shape=(), dtype=float32, numpy=0.8647535>, <tf.Tensor: shape=(), dtype=float32, numpy=0.86661>, <tf.Tensor: shape=(), dtype=float32, numpy=0.868409>, <tf.Tensor: shape=(), dtype=float32, numpy=0.8701037>, <tf.Tensor: shape=(), dtype=float32, numpy=0.8717667>, <tf.Tensor: shape=(), dtype=float32, numpy=0.8733822>, <tf.Tensor: shape=(), dtype=float32, numpy=0.87487>]\n",
            "[<tf.Tensor: shape=(), dtype=float32, numpy=0.7567>, <tf.Tensor: shape=(), dtype=float32, numpy=0.78185>, <tf.Tensor: shape=(), dtype=float32, numpy=0.80053335>, <tf.Tensor: shape=(), dtype=float32, numpy=0.81095>, <tf.Tensor: shape=(), dtype=float32, numpy=0.82086>, <tf.Tensor: shape=(), dtype=float32, numpy=0.8293333>, <tf.Tensor: shape=(), dtype=float32, numpy=0.8344143>, <tf.Tensor: shape=(), dtype=float32, numpy=0.838775>, <tf.Tensor: shape=(), dtype=float32, numpy=0.8437778>, <tf.Tensor: shape=(), dtype=float32, numpy=0.84791>, <tf.Tensor: shape=(), dtype=float32, numpy=0.85157275>, <tf.Tensor: shape=(), dtype=float32, numpy=0.85355>, <tf.Tensor: shape=(), dtype=float32, numpy=0.8563923>, <tf.Tensor: shape=(), dtype=float32, numpy=0.85870713>, <tf.Tensor: shape=(), dtype=float32, numpy=0.86130667>, <tf.Tensor: shape=(), dtype=float32, numpy=0.86285627>, <tf.Tensor: shape=(), dtype=float32, numpy=0.8648>, <tf.Tensor: shape=(), dtype=float32, numpy=0.8666555>, <tf.Tensor: shape=(), dtype=float32, numpy=0.8684211>, <tf.Tensor: shape=(), dtype=float32, numpy=0.86989>, <tf.Tensor: shape=(), dtype=float32, numpy=0.8710143>, <tf.Tensor: shape=(), dtype=float32, numpy=0.87236816>, <tf.Tensor: shape=(), dtype=float32, numpy=0.8737>, <tf.Tensor: shape=(), dtype=float32, numpy=0.87514585>, <tf.Tensor: shape=(), dtype=float32, numpy=0.876504>, <tf.Tensor: shape=(), dtype=float32, numpy=0.87736154>, <tf.Tensor: shape=(), dtype=float32, numpy=0.8783926>, <tf.Tensor: shape=(), dtype=float32, numpy=0.8793036>, <tf.Tensor: shape=(), dtype=float32, numpy=0.88021725>, <tf.Tensor: shape=(), dtype=float32, numpy=0.88131>]\n",
            "[<tf.Tensor: shape=(), dtype=float32, numpy=1.1050458>, <tf.Tensor: shape=(), dtype=float32, numpy=0.8346952>, <tf.Tensor: shape=(), dtype=float32, numpy=0.71858835>, <tf.Tensor: shape=(), dtype=float32, numpy=0.6473099>, <tf.Tensor: shape=(), dtype=float32, numpy=0.5987773>, <tf.Tensor: shape=(), dtype=float32, numpy=0.5632897>, <tf.Tensor: shape=(), dtype=float32, numpy=0.5354786>, <tf.Tensor: shape=(), dtype=float32, numpy=0.51301485>, <tf.Tensor: shape=(), dtype=float32, numpy=0.4934849>, <tf.Tensor: shape=(), dtype=float32, numpy=0.47646862>, <tf.Tensor: shape=(), dtype=float32, numpy=0.4618167>, <tf.Tensor: shape=(), dtype=float32, numpy=0.44894>, <tf.Tensor: shape=(), dtype=float32, numpy=0.43705183>, <tf.Tensor: shape=(), dtype=float32, numpy=0.42660287>, <tf.Tensor: shape=(), dtype=float32, numpy=0.41706866>, <tf.Tensor: shape=(), dtype=float32, numpy=0.4084743>, <tf.Tensor: shape=(), dtype=float32, numpy=0.40050703>, <tf.Tensor: shape=(), dtype=float32, numpy=0.3929913>, <tf.Tensor: shape=(), dtype=float32, numpy=0.3861991>, <tf.Tensor: shape=(), dtype=float32, numpy=0.37968597>, <tf.Tensor: shape=(), dtype=float32, numpy=0.37317353>, <tf.Tensor: shape=(), dtype=float32, numpy=0.36724088>, <tf.Tensor: shape=(), dtype=float32, numpy=0.36168897>, <tf.Tensor: shape=(), dtype=float32, numpy=0.3563772>, <tf.Tensor: shape=(), dtype=float32, numpy=0.3514795>, <tf.Tensor: shape=(), dtype=float32, numpy=0.34672523>, <tf.Tensor: shape=(), dtype=float32, numpy=0.34225342>, <tf.Tensor: shape=(), dtype=float32, numpy=0.33801523>, <tf.Tensor: shape=(), dtype=float32, numpy=0.33383334>, <tf.Tensor: shape=(), dtype=float32, numpy=0.32992896>]\n",
            "[<tf.Tensor: shape=(), dtype=float32, numpy=0.6570247>, <tf.Tensor: shape=(), dtype=float32, numpy=0.58468205>, <tf.Tensor: shape=(), dtype=float32, numpy=0.5419246>, <tf.Tensor: shape=(), dtype=float32, numpy=0.5112915>, <tf.Tensor: shape=(), dtype=float32, numpy=0.48506522>, <tf.Tensor: shape=(), dtype=float32, numpy=0.4660498>, <tf.Tensor: shape=(), dtype=float32, numpy=0.45447323>, <tf.Tensor: shape=(), dtype=float32, numpy=0.44179392>, <tf.Tensor: shape=(), dtype=float32, numpy=0.42912054>, <tf.Tensor: shape=(), dtype=float32, numpy=0.4183025>, <tf.Tensor: shape=(), dtype=float32, numpy=0.40879905>, <tf.Tensor: shape=(), dtype=float32, numpy=0.40403444>, <tf.Tensor: shape=(), dtype=float32, numpy=0.3966672>, <tf.Tensor: shape=(), dtype=float32, numpy=0.39064667>, <tf.Tensor: shape=(), dtype=float32, numpy=0.38386086>, <tf.Tensor: shape=(), dtype=float32, numpy=0.37916222>, <tf.Tensor: shape=(), dtype=float32, numpy=0.3738002>, <tf.Tensor: shape=(), dtype=float32, numpy=0.36888644>, <tf.Tensor: shape=(), dtype=float32, numpy=0.36434293>, <tf.Tensor: shape=(), dtype=float32, numpy=0.35994267>, <tf.Tensor: shape=(), dtype=float32, numpy=0.35666806>, <tf.Tensor: shape=(), dtype=float32, numpy=0.35354385>, <tf.Tensor: shape=(), dtype=float32, numpy=0.35040933>, <tf.Tensor: shape=(), dtype=float32, numpy=0.34710595>, <tf.Tensor: shape=(), dtype=float32, numpy=0.343587>, <tf.Tensor: shape=(), dtype=float32, numpy=0.34158963>, <tf.Tensor: shape=(), dtype=float32, numpy=0.33936936>, <tf.Tensor: shape=(), dtype=float32, numpy=0.33667862>, <tf.Tensor: shape=(), dtype=float32, numpy=0.33409303>, <tf.Tensor: shape=(), dtype=float32, numpy=0.3314058>]\n"
          ]
        }
      ]
    },
    {
      "cell_type": "code",
      "source": [
        ""
      ],
      "metadata": {
        "id": "O9NcjRF4vnEJ"
      },
      "execution_count": 12,
      "outputs": []
    }
  ],
  "metadata": {
    "accelerator": "GPU",
    "colab": {
      "name": "attempt2.ipynb",
      "provenance": [],
      "collapsed_sections": [],
      "toc_visible": true,
      "include_colab_link": true
    },
    "kernelspec": {
      "display_name": "Python 3 (ipykernel)",
      "language": "python",
      "name": "python3"
    },
    "language_info": {
      "codemirror_mode": {
        "name": "ipython",
        "version": 3
      },
      "file_extension": ".py",
      "mimetype": "text/x-python",
      "name": "python",
      "nbconvert_exporter": "python",
      "pygments_lexer": "ipython3",
      "version": "3.7.3"
    }
  },
  "nbformat": 4,
  "nbformat_minor": 0
}
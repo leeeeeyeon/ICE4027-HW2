{
  "cells": [
    {
      "cell_type": "markdown",
      "metadata": {
        "id": "view-in-github",
        "colab_type": "text"
      },
      "source": [
        "<a href=\"https://colab.research.google.com/github/leeeeeyeon/ICE4101-HW2/blob/main/attempt5.ipynb\" target=\"_parent\"><img src=\"https://colab.research.google.com/assets/colab-badge.svg\" alt=\"Open In Colab\"/></a>"
      ]
    },
    {
      "cell_type": "markdown",
      "source": [
        "# HW2\n",
        "\n",
        "*   Submit result analysis report (within 6 pages, at least 3 pages, pdf format)\n",
        "*   **Analysis of experimental results by modifying hyperparameters**\n",
        "(e.g. epoch, learning rate, optimizer, activation function ..)\n",
        "*   **Analysis and discussion through various experiments** is more important than improving performance\n",
        "*   Active use of tables and graphs\n",
        "*   If necessary, attach a link to your colab code\n",
        "*   Code is based on ResNet-50\n",
        "\n",
        "\n",
        "\n",
        "\n",
        "\n",
        "\n"
      ],
      "metadata": {
        "id": "o-uBl7-zuUNa"
      }
    },
    {
      "cell_type": "markdown",
      "source": [
        "# 1.Install TensorFlow 2.1.0"
      ],
      "metadata": {
        "id": "cgc8jD09hGas"
      }
    },
    {
      "cell_type": "code",
      "source": [
        "import tensorflow as tf\n",
        "tf.__version__"
      ],
      "metadata": {
        "colab": {
          "base_uri": "https://localhost:8080/",
          "height": 37
        },
        "id": "S4vW3uSZO5aV",
        "outputId": "9ce25341-36d7-4228-8d64-4e4ed1d89a73"
      },
      "execution_count": 1,
      "outputs": [
        {
          "output_type": "execute_result",
          "data": {
            "text/plain": [
              "'2.1.0'"
            ],
            "application/vnd.google.colaboratory.intrinsic+json": {
              "type": "string"
            }
          },
          "metadata": {},
          "execution_count": 1
        }
      ]
    },
    {
      "cell_type": "code",
      "source": [
        "!pip uninstall tensorflow\n",
        "!pip install tensorflow==2.1.0"
      ],
      "metadata": {
        "colab": {
          "base_uri": "https://localhost:8080/"
        },
        "id": "LkchjzXKO_5Q",
        "outputId": "ac04b89e-7ac5-4971-ab68-f63931b18fb7"
      },
      "execution_count": 2,
      "outputs": [
        {
          "output_type": "stream",
          "name": "stdout",
          "text": [
            "Found existing installation: tensorflow 2.1.0\n",
            "Uninstalling tensorflow-2.1.0:\n",
            "  Would remove:\n",
            "    /usr/local/bin/estimator_ckpt_converter\n",
            "    /usr/local/bin/saved_model_cli\n",
            "    /usr/local/bin/tensorboard\n",
            "    /usr/local/bin/tf_upgrade_v2\n",
            "    /usr/local/bin/tflite_convert\n",
            "    /usr/local/bin/toco\n",
            "    /usr/local/bin/toco_from_protos\n",
            "    /usr/local/lib/python3.7/dist-packages/tensorflow-2.1.0.dist-info/*\n",
            "    /usr/local/lib/python3.7/dist-packages/tensorflow/*\n",
            "    /usr/local/lib/python3.7/dist-packages/tensorflow_core/*\n",
            "Proceed (y/n)? n\n",
            "Looking in indexes: https://pypi.org/simple, https://us-python.pkg.dev/colab-wheels/public/simple/\n",
            "Requirement already satisfied: tensorflow==2.1.0 in /usr/local/lib/python3.7/dist-packages (2.1.0)\n",
            "Requirement already satisfied: numpy<2.0,>=1.16.0 in /usr/local/lib/python3.7/dist-packages (from tensorflow==2.1.0) (1.21.6)\n",
            "Requirement already satisfied: keras-applications>=1.0.8 in /usr/local/lib/python3.7/dist-packages (from tensorflow==2.1.0) (1.0.8)\n",
            "Requirement already satisfied: gast==0.2.2 in /usr/local/lib/python3.7/dist-packages (from tensorflow==2.1.0) (0.2.2)\n",
            "Requirement already satisfied: protobuf>=3.8.0 in /usr/local/lib/python3.7/dist-packages (from tensorflow==2.1.0) (3.17.3)\n",
            "Requirement already satisfied: tensorflow-estimator<2.2.0,>=2.1.0rc0 in /usr/local/lib/python3.7/dist-packages (from tensorflow==2.1.0) (2.1.0)\n",
            "Requirement already satisfied: tensorboard<2.2.0,>=2.1.0 in /usr/local/lib/python3.7/dist-packages (from tensorflow==2.1.0) (2.1.1)\n",
            "Requirement already satisfied: opt-einsum>=2.3.2 in /usr/local/lib/python3.7/dist-packages (from tensorflow==2.1.0) (3.3.0)\n",
            "Requirement already satisfied: six>=1.12.0 in /usr/local/lib/python3.7/dist-packages (from tensorflow==2.1.0) (1.15.0)\n",
            "Requirement already satisfied: grpcio>=1.8.6 in /usr/local/lib/python3.7/dist-packages (from tensorflow==2.1.0) (1.46.1)\n",
            "Requirement already satisfied: wheel>=0.26 in /usr/local/lib/python3.7/dist-packages (from tensorflow==2.1.0) (0.37.1)\n",
            "Requirement already satisfied: keras-preprocessing>=1.1.0 in /usr/local/lib/python3.7/dist-packages (from tensorflow==2.1.0) (1.1.2)\n",
            "Requirement already satisfied: wrapt>=1.11.1 in /usr/local/lib/python3.7/dist-packages (from tensorflow==2.1.0) (1.14.1)\n",
            "Requirement already satisfied: termcolor>=1.1.0 in /usr/local/lib/python3.7/dist-packages (from tensorflow==2.1.0) (1.1.0)\n",
            "Requirement already satisfied: astor>=0.6.0 in /usr/local/lib/python3.7/dist-packages (from tensorflow==2.1.0) (0.8.1)\n",
            "Requirement already satisfied: absl-py>=0.7.0 in /usr/local/lib/python3.7/dist-packages (from tensorflow==2.1.0) (1.0.0)\n",
            "Requirement already satisfied: scipy==1.4.1 in /usr/local/lib/python3.7/dist-packages (from tensorflow==2.1.0) (1.4.1)\n",
            "Requirement already satisfied: google-pasta>=0.1.6 in /usr/local/lib/python3.7/dist-packages (from tensorflow==2.1.0) (0.2.0)\n",
            "Requirement already satisfied: h5py in /usr/local/lib/python3.7/dist-packages (from keras-applications>=1.0.8->tensorflow==2.1.0) (3.1.0)\n",
            "Requirement already satisfied: google-auth<2,>=1.6.3 in /usr/local/lib/python3.7/dist-packages (from tensorboard<2.2.0,>=2.1.0->tensorflow==2.1.0) (1.35.0)\n",
            "Requirement already satisfied: setuptools>=41.0.0 in /usr/local/lib/python3.7/dist-packages (from tensorboard<2.2.0,>=2.1.0->tensorflow==2.1.0) (57.4.0)\n",
            "Requirement already satisfied: werkzeug>=0.11.15 in /usr/local/lib/python3.7/dist-packages (from tensorboard<2.2.0,>=2.1.0->tensorflow==2.1.0) (1.0.1)\n",
            "Requirement already satisfied: google-auth-oauthlib<0.5,>=0.4.1 in /usr/local/lib/python3.7/dist-packages (from tensorboard<2.2.0,>=2.1.0->tensorflow==2.1.0) (0.4.6)\n",
            "Requirement already satisfied: requests<3,>=2.21.0 in /usr/local/lib/python3.7/dist-packages (from tensorboard<2.2.0,>=2.1.0->tensorflow==2.1.0) (2.23.0)\n",
            "Requirement already satisfied: markdown>=2.6.8 in /usr/local/lib/python3.7/dist-packages (from tensorboard<2.2.0,>=2.1.0->tensorflow==2.1.0) (3.3.7)\n",
            "Requirement already satisfied: cachetools<5.0,>=2.0.0 in /usr/local/lib/python3.7/dist-packages (from google-auth<2,>=1.6.3->tensorboard<2.2.0,>=2.1.0->tensorflow==2.1.0) (4.2.4)\n",
            "Requirement already satisfied: rsa<5,>=3.1.4 in /usr/local/lib/python3.7/dist-packages (from google-auth<2,>=1.6.3->tensorboard<2.2.0,>=2.1.0->tensorflow==2.1.0) (4.8)\n",
            "Requirement already satisfied: pyasn1-modules>=0.2.1 in /usr/local/lib/python3.7/dist-packages (from google-auth<2,>=1.6.3->tensorboard<2.2.0,>=2.1.0->tensorflow==2.1.0) (0.2.8)\n",
            "Requirement already satisfied: requests-oauthlib>=0.7.0 in /usr/local/lib/python3.7/dist-packages (from google-auth-oauthlib<0.5,>=0.4.1->tensorboard<2.2.0,>=2.1.0->tensorflow==2.1.0) (1.3.1)\n",
            "Requirement already satisfied: importlib-metadata>=4.4 in /usr/local/lib/python3.7/dist-packages (from markdown>=2.6.8->tensorboard<2.2.0,>=2.1.0->tensorflow==2.1.0) (4.11.3)\n",
            "Requirement already satisfied: zipp>=0.5 in /usr/local/lib/python3.7/dist-packages (from importlib-metadata>=4.4->markdown>=2.6.8->tensorboard<2.2.0,>=2.1.0->tensorflow==2.1.0) (3.8.0)\n",
            "Requirement already satisfied: typing-extensions>=3.6.4 in /usr/local/lib/python3.7/dist-packages (from importlib-metadata>=4.4->markdown>=2.6.8->tensorboard<2.2.0,>=2.1.0->tensorflow==2.1.0) (4.2.0)\n",
            "Requirement already satisfied: pyasn1<0.5.0,>=0.4.6 in /usr/local/lib/python3.7/dist-packages (from pyasn1-modules>=0.2.1->google-auth<2,>=1.6.3->tensorboard<2.2.0,>=2.1.0->tensorflow==2.1.0) (0.4.8)\n",
            "Requirement already satisfied: chardet<4,>=3.0.2 in /usr/local/lib/python3.7/dist-packages (from requests<3,>=2.21.0->tensorboard<2.2.0,>=2.1.0->tensorflow==2.1.0) (3.0.4)\n",
            "Requirement already satisfied: idna<3,>=2.5 in /usr/local/lib/python3.7/dist-packages (from requests<3,>=2.21.0->tensorboard<2.2.0,>=2.1.0->tensorflow==2.1.0) (2.10)\n",
            "Requirement already satisfied: certifi>=2017.4.17 in /usr/local/lib/python3.7/dist-packages (from requests<3,>=2.21.0->tensorboard<2.2.0,>=2.1.0->tensorflow==2.1.0) (2022.5.18.1)\n",
            "Requirement already satisfied: urllib3!=1.25.0,!=1.25.1,<1.26,>=1.21.1 in /usr/local/lib/python3.7/dist-packages (from requests<3,>=2.21.0->tensorboard<2.2.0,>=2.1.0->tensorflow==2.1.0) (1.24.3)\n",
            "Requirement already satisfied: oauthlib>=3.0.0 in /usr/local/lib/python3.7/dist-packages (from requests-oauthlib>=0.7.0->google-auth-oauthlib<0.5,>=0.4.1->tensorboard<2.2.0,>=2.1.0->tensorflow==2.1.0) (3.2.0)\n",
            "Requirement already satisfied: cached-property in /usr/local/lib/python3.7/dist-packages (from h5py->keras-applications>=1.0.8->tensorflow==2.1.0) (1.5.2)\n"
          ]
        }
      ]
    },
    {
      "cell_type": "markdown",
      "source": [
        "# 2.Runtime restart\n",
        "\n",
        "**런타임 -> 런타임 다시 시작 -> 다음 코드 진행**"
      ],
      "metadata": {
        "id": "PCe8FggEZimh"
      }
    },
    {
      "cell_type": "markdown",
      "source": [
        "# 3.Prepare dataset"
      ],
      "metadata": {
        "id": "z3JBDs8YhThj"
      }
    },
    {
      "cell_type": "code",
      "source": [
        "import tensorflow_datasets as tfds\n",
        "import tensorflow as tf\n",
        "\n",
        "#print(tfds.list_builders())\n",
        "dataset, info = tfds.load('fashion_mnist', as_supervised = True, with_info = True)\n",
        "dataset_test, dataset_train = dataset['test'], dataset['train']\n",
        "print(info)"
      ],
      "metadata": {
        "colab": {
          "base_uri": "https://localhost:8080/"
        },
        "id": "9UuRZP_QPCQj",
        "outputId": "d26c3e56-56c5-4291-963f-0bf52f3a6f05"
      },
      "execution_count": 3,
      "outputs": [
        {
          "output_type": "stream",
          "name": "stdout",
          "text": [
            "tfds.core.DatasetInfo(\n",
            "    name='fashion_mnist',\n",
            "    version=3.0.1,\n",
            "    description='Fashion-MNIST is a dataset of Zalando's article images consisting of a training set of 60,000 examples and a test set of 10,000 examples. Each example is a 28x28 grayscale image, associated with a label from 10 classes.',\n",
            "    homepage='https://github.com/zalandoresearch/fashion-mnist',\n",
            "    features=FeaturesDict({\n",
            "        'image': Image(shape=(28, 28, 1), dtype=tf.uint8),\n",
            "        'label': ClassLabel(shape=(), dtype=tf.int64, num_classes=10),\n",
            "    }),\n",
            "    total_num_examples=70000,\n",
            "    splits={\n",
            "        'test': 10000,\n",
            "        'train': 60000,\n",
            "    },\n",
            "    supervised_keys=('image', 'label'),\n",
            "    citation=\"\"\"@article{DBLP:journals/corr/abs-1708-07747,\n",
            "      author    = {Han Xiao and\n",
            "                   Kashif Rasul and\n",
            "                   Roland Vollgraf},\n",
            "      title     = {Fashion-MNIST: a Novel Image Dataset for Benchmarking Machine Learning\n",
            "                   Algorithms},\n",
            "      journal   = {CoRR},\n",
            "      volume    = {abs/1708.07747},\n",
            "      year      = {2017},\n",
            "      url       = {http://arxiv.org/abs/1708.07747},\n",
            "      archivePrefix = {arXiv},\n",
            "      eprint    = {1708.07747},\n",
            "      timestamp = {Mon, 13 Aug 2018 16:47:27 +0200},\n",
            "      biburl    = {https://dblp.org/rec/bib/journals/corr/abs-1708-07747},\n",
            "      bibsource = {dblp computer science bibliography, https://dblp.org}\n",
            "    }\"\"\",\n",
            "    redistribution_info=,\n",
            ")\n",
            "\n"
          ]
        }
      ]
    },
    {
      "cell_type": "code",
      "source": [
        "def convert_types(image, label):\n",
        "    image = tf.cast(image, tf.float32)\n",
        "    image /= 255\n",
        "    return image, label\n",
        "\n",
        "batch_size = 256 # >>>>>>>>>>>>> hyperparameters <<<<<<<<<<<<<<<<<<\n",
        "\n",
        "dataset_train = dataset_train.map(convert_types).shuffle(10000).batch(batch_size)\n",
        "dataset_test = dataset_test.map(convert_types).batch(batch_size)"
      ],
      "metadata": {
        "id": "4rGtwLm0PEE2"
      },
      "execution_count": 4,
      "outputs": []
    },
    {
      "cell_type": "markdown",
      "source": [
        "# 4.Data Agumentation"
      ],
      "metadata": {
        "id": "JwIjNYfbhWpL"
      }
    },
    {
      "cell_type": "code",
      "source": [
        "from tensorflow.keras.preprocessing.image import ImageDataGenerator\n",
        "\n",
        "#datagen = ImageDataGenerator()\n",
        "datagen = ImageDataGenerator(rotation_range = 10, horizontal_flip = True, zoom_range = 0.1)\n"
      ],
      "metadata": {
        "id": "8sOFTmAaPFRx"
      },
      "execution_count": 5,
      "outputs": []
    },
    {
      "cell_type": "markdown",
      "source": [
        "# 5.Define model"
      ],
      "metadata": {
        "id": "QCNx3jNmhYTh"
      }
    },
    {
      "cell_type": "code",
      "source": [
        "from tensorflow.keras.layers import Conv2D, Dense, BatchNormalization, Activation, MaxPool2D, GlobalAveragePooling2D, Add\n",
        "from tensorflow.keras import Model\n",
        "\n",
        "class ResidualBlock(Model):\n",
        "    def __init__(self, channel_in = 64, channel_out = 256):\n",
        "        super().__init__()\n",
        "        \n",
        "        channel = channel_out // 4\n",
        "        \n",
        "        self.conv1 = Conv2D(channel, kernel_size = (1, 1), padding = \"same\")\n",
        "        self.bn1 = BatchNormalization()\n",
        "        self.av1 = Activation(tf.nn.relu)\n",
        "        self.conv2 = Conv2D(channel, kernel_size = (3, 3), padding = \"same\")\n",
        "        self.bn2 = BatchNormalization()\n",
        "        self.av2 = Activation(tf.nn.relu)\n",
        "        self.conv3 = Conv2D(channel_out, kernel_size = (1, 1), padding = \"same\")\n",
        "        self.bn3 = BatchNormalization()\n",
        "        self.shortcut = self._shortcut(channel_in, channel_out)\n",
        "        self.add = Add()\n",
        "        self.av3 = Activation(tf.nn.relu)\n",
        "        \n",
        "    def call(self, x):\n",
        "        h = self.conv1(x)\n",
        "        h = self.bn1(h)\n",
        "        h = self.av1(h)\n",
        "        h = self.conv2(h)\n",
        "        h = self.bn2(h)\n",
        "        h = self.av2(h)\n",
        "        h = self.conv3(h)\n",
        "        h = self.bn3(h)\n",
        "        shortcut = self.shortcut(x)\n",
        "        h = self.add([h, shortcut])\n",
        "        y = self.av3(h)\n",
        "        return y\n",
        "    \n",
        "    def _shortcut(self, channel_in, channel_out):\n",
        "        if channel_in == channel_out:\n",
        "            return lambda x : x\n",
        "        else:\n",
        "            return self._projection(channel_out)\n",
        "        \n",
        "    def _projection(self, channel_out):\n",
        "        return Conv2D(channel_out, kernel_size = (1, 1), padding = \"same\")\n",
        "           \n",
        "class ResNet50(Model):\n",
        "    def __init__(self, input_shape, output_dim):\n",
        "        super().__init__()                \n",
        "        \n",
        "        self._layers = [\n",
        "            # conv1\n",
        "            Conv2D(64, input_shape = input_shape, kernel_size = (7, 7), strides=(2, 2), padding = \"same\"),\n",
        "            BatchNormalization(),\n",
        "            Activation(tf.nn.relu),\n",
        "            # conv2_x\n",
        "            MaxPool2D(pool_size = (3, 3), strides = (2, 2), padding = \"same\"),\n",
        "            ResidualBlock(64, 256),\n",
        "            [\n",
        "                ResidualBlock(256, 256) for _ in range(2)                \n",
        "            ],\n",
        "            # conv3_x\n",
        "            Conv2D(512, kernel_size = (1, 1), strides=(2, 2)),\n",
        "            [\n",
        "                ResidualBlock(512, 512) for _ in range(4)                \n",
        "            ],\n",
        "            # conv4_x\n",
        "            Conv2D(1024, kernel_size = (1, 1), strides=(2, 2)),\n",
        "            [\n",
        "                ResidualBlock(1024, 1024) for _ in range(6)                \n",
        "            ],\n",
        "            # conv5_x\n",
        "            Conv2D(2048, kernel_size = (1, 1), strides=(2, 2)),\n",
        "            [\n",
        "                ResidualBlock(2048, 2048) for _ in range(3)\n",
        "            ],\n",
        "            # last part\n",
        "            GlobalAveragePooling2D(),\n",
        "            Dense(1000, activation = tf.nn.relu),\n",
        "            Dense(output_dim, activation = tf.nn.softmax)\n",
        "        ]\n",
        "        \n",
        "    def call(self, x):\n",
        "        for layer in self._layers:\n",
        "            if isinstance(layer, list):\n",
        "                for l in layer:\n",
        "                    x = l(x)    \n",
        "            else:\n",
        "                x = layer(x)\n",
        "        return x\n",
        "       \n",
        "    \n",
        "model = ResNet50((28, 28, 1), 10)\n",
        "model.build(input_shape = (None, 28, 28, 1))\n",
        "model.summary()"
      ],
      "metadata": {
        "colab": {
          "base_uri": "https://localhost:8080/"
        },
        "id": "jWJUZukSPGX_",
        "outputId": "c5b00e91-f08d-47a5-d070-e3de794c93eb"
      },
      "execution_count": 6,
      "outputs": [
        {
          "output_type": "stream",
          "name": "stdout",
          "text": [
            "Model: \"res_net50\"\n",
            "_________________________________________________________________\n",
            "Layer (type)                 Output Shape              Param #   \n",
            "=================================================================\n",
            "conv2d (Conv2D)              multiple                  3200      \n",
            "_________________________________________________________________\n",
            "batch_normalization (BatchNo multiple                  256       \n",
            "_________________________________________________________________\n",
            "activation (Activation)      multiple                  0         \n",
            "_________________________________________________________________\n",
            "max_pooling2d (MaxPooling2D) multiple                  0         \n",
            "_________________________________________________________________\n",
            "residual_block (ResidualBloc multiple                  75904     \n",
            "_________________________________________________________________\n",
            "residual_block_1 (ResidualBl multiple                  71552     \n",
            "_________________________________________________________________\n",
            "residual_block_2 (ResidualBl multiple                  71552     \n",
            "_________________________________________________________________\n",
            "conv2d_11 (Conv2D)           multiple                  131584    \n",
            "_________________________________________________________________\n",
            "residual_block_3 (ResidualBl multiple                  282368    \n",
            "_________________________________________________________________\n",
            "residual_block_4 (ResidualBl multiple                  282368    \n",
            "_________________________________________________________________\n",
            "residual_block_5 (ResidualBl multiple                  282368    \n",
            "_________________________________________________________________\n",
            "residual_block_6 (ResidualBl multiple                  282368    \n",
            "_________________________________________________________________\n",
            "conv2d_24 (Conv2D)           multiple                  525312    \n",
            "_________________________________________________________________\n",
            "residual_block_7 (ResidualBl multiple                  1121792   \n",
            "_________________________________________________________________\n",
            "residual_block_8 (ResidualBl multiple                  1121792   \n",
            "_________________________________________________________________\n",
            "residual_block_9 (ResidualBl multiple                  1121792   \n",
            "_________________________________________________________________\n",
            "residual_block_10 (ResidualB multiple                  1121792   \n",
            "_________________________________________________________________\n",
            "residual_block_11 (ResidualB multiple                  1121792   \n",
            "_________________________________________________________________\n",
            "residual_block_12 (ResidualB multiple                  1121792   \n",
            "_________________________________________________________________\n",
            "conv2d_43 (Conv2D)           multiple                  2099200   \n",
            "_________________________________________________________________\n",
            "residual_block_13 (ResidualB multiple                  4471808   \n",
            "_________________________________________________________________\n",
            "residual_block_14 (ResidualB multiple                  4471808   \n",
            "_________________________________________________________________\n",
            "residual_block_15 (ResidualB multiple                  4471808   \n",
            "_________________________________________________________________\n",
            "global_average_pooling2d (Gl multiple                  0         \n",
            "_________________________________________________________________\n",
            "dense (Dense)                multiple                  2049000   \n",
            "_________________________________________________________________\n",
            "dense_1 (Dense)              multiple                  10010     \n",
            "=================================================================\n",
            "Total params: 26,313,218\n",
            "Trainable params: 26,267,778\n",
            "Non-trainable params: 45,440\n",
            "_________________________________________________________________\n"
          ]
        }
      ]
    },
    {
      "cell_type": "code",
      "source": [
        "# >>>>>>>>>>>>> hyperparameters <<<<<<<<<<<<<<<<<<\n",
        "\n",
        "loss_object = tf.keras.losses.SparseCategoricalCrossentropy()\n",
        "# optimizer = tf.keras.optimizers.Adamax(lr=0.002, beta_1=0.9, beta_2=0.999, epsilon=None, decay=0.0001)\n",
        "optimizer = tf.keras.optimizers.SGD(learning_rate = 0.002, momentum = 0.9, decay =  0.0001)"
      ],
      "metadata": {
        "id": "Kq2-KWm1PIMB"
      },
      "execution_count": 7,
      "outputs": []
    },
    {
      "cell_type": "markdown",
      "source": [
        "# 6.Prepare training"
      ],
      "metadata": {
        "id": "N5ngl-FfhbUd"
      }
    },
    {
      "cell_type": "code",
      "source": [
        "train_loss = tf.keras.metrics.Mean(name = 'train_loss')\n",
        "train_accuracy = tf.keras.metrics.SparseCategoricalAccuracy(name = 'train_accuracy')\n",
        "\n",
        "test_loss = tf.keras.metrics.Mean(name = 'test_loss')\n",
        "test_accuracy = tf.keras.metrics.SparseCategoricalAccuracy(name = 'test_accuracy')"
      ],
      "metadata": {
        "id": "TlxiC91MPJmz"
      },
      "execution_count": 8,
      "outputs": []
    },
    {
      "cell_type": "code",
      "source": [
        "def train_step(image, label):\n",
        "    with tf.GradientTape() as tape:\n",
        "        predictions = model(image)\n",
        "        loss = loss_object(label, predictions)\n",
        "    gradients = tape.gradient(loss, model.trainable_variables)\n",
        "    optimizer.apply_gradients(zip(gradients, model.trainable_variables))\n",
        "    \n",
        "    train_loss(loss)\n",
        "    train_accuracy(label, predictions)\n",
        "        \n",
        "@tf.function\n",
        "def test_step(image, label):\n",
        "    predictions = model(image)\n",
        "    loss = loss_object(label, predictions)\n",
        "    \n",
        "    test_loss(loss)\n",
        "    test_accuracy(label, predictions)"
      ],
      "metadata": {
        "id": "mzY7PLXTPXdD"
      },
      "execution_count": 9,
      "outputs": []
    },
    {
      "cell_type": "markdown",
      "source": [
        "# 7.Train"
      ],
      "metadata": {
        "id": "NLuFGAArhc9d"
      }
    },
    {
      "cell_type": "code",
      "source": [
        "import time\n",
        "\n",
        "num_epoch = 30 # >>>>>>>>>>>>> hyperparameters <<<<<<<<<<<<<<<<<<\n",
        "start_time = time.time()\n",
        "\n",
        "train_accuracies = []\n",
        "test_accuracies = []\n",
        "\n",
        "train_losses = []\n",
        "test_losses = []\n",
        "\n",
        "for epoch in range(num_epoch):    \n",
        "    for image, label in dataset_train:\n",
        "        for _image, _label in datagen.flow(image, label, batch_size = batch_size):\n",
        "            train_step(_image, _label)\n",
        "            break\n",
        "        \n",
        "    for test_image, test_label in dataset_test:\n",
        "        test_step(test_image, test_label)\n",
        "        \n",
        "    train_accuracies.append(train_accuracy.result())\n",
        "    test_accuracies.append(test_accuracy.result()) \n",
        "    train_losses.append(train_loss.result())\n",
        "    test_losses.append(test_loss.result())   \n",
        "    \n",
        "    template = 'Epoch {}, Loss: {}, Accuracy: {}, Test Loss: {}, Test Accuracy: {}, spent_time: {} min'\n",
        "    spent_time = time.time() - start_time\n",
        "    print(template.format(epoch + 1, train_loss.result(), train_accuracy.result() * 100, test_loss.result(), test_accuracy.result() * 100, spent_time / 60))"
      ],
      "metadata": {
        "colab": {
          "base_uri": "https://localhost:8080/"
        },
        "id": "xnct6_UjPZOU",
        "outputId": "55cad562-a473-408f-f65e-f84f5187c994"
      },
      "execution_count": 10,
      "outputs": [
        {
          "output_type": "stream",
          "name": "stdout",
          "text": [
            "Epoch 1, Loss: 1.9326010942459106, Accuracy: 41.31166458129883, Test Loss: 1.0563422441482544, Test Accuracy: 63.090003967285156, spent_time: 1.2083263436953227 min\n",
            "Epoch 2, Loss: 1.3980298042297363, Accuracy: 54.41416549682617, Test Loss: 0.8984860181808472, Test Accuracy: 68.08999633789062, spent_time: 2.142970335483551 min\n",
            "Epoch 3, Loss: 1.1720702648162842, Accuracy: 60.56999969482422, Test Loss: 0.8227155208587646, Test Accuracy: 70.36666870117188, spent_time: 3.0932615995407104 min\n",
            "Epoch 4, Loss: 1.0458451509475708, Accuracy: 64.14958190917969, Test Loss: 0.7793720364570618, Test Accuracy: 71.6050033569336, spent_time: 4.028205112616221 min\n",
            "Epoch 5, Loss: 0.9616016745567322, Accuracy: 66.63566589355469, Test Loss: 0.7428670525550842, Test Accuracy: 72.99600219726562, spent_time: 4.961564362049103 min\n",
            "Epoch 6, Loss: 0.9012726545333862, Accuracy: 68.42749786376953, Test Loss: 0.7148932218551636, Test Accuracy: 74.07167053222656, spent_time: 5.8973931789398195 min\n",
            "Epoch 7, Loss: 0.8527672290802002, Accuracy: 69.94119262695312, Test Loss: 0.6904143691062927, Test Accuracy: 74.93428802490234, spent_time: 6.831373151143392 min\n",
            "Epoch 8, Loss: 0.8135803937911987, Accuracy: 71.13958740234375, Test Loss: 0.6695760488510132, Test Accuracy: 75.61624908447266, spent_time: 7.766007566452027 min\n",
            "Epoch 9, Loss: 0.7812427282333374, Accuracy: 72.1322250366211, Test Loss: 0.6508201956748962, Test Accuracy: 76.25, spent_time: 8.708996053536733 min\n",
            "Epoch 10, Loss: 0.7540550827980042, Accuracy: 72.99116516113281, Test Loss: 0.6350725293159485, Test Accuracy: 76.8239974975586, spent_time: 9.642586334546406 min\n",
            "Epoch 11, Loss: 0.7298138737678528, Accuracy: 73.76545715332031, Test Loss: 0.6195235252380371, Test Accuracy: 77.36454772949219, spent_time: 10.573721718788146 min\n",
            "Epoch 12, Loss: 0.7083388566970825, Accuracy: 74.46277618408203, Test Loss: 0.6068693399429321, Test Accuracy: 77.80583190917969, spent_time: 11.511725533008576 min\n",
            "Epoch 13, Loss: 0.6897671818733215, Accuracy: 75.0719223022461, Test Loss: 0.5942166447639465, Test Accuracy: 78.25846099853516, spent_time: 12.447760697205862 min\n",
            "Epoch 14, Loss: 0.6725106835365295, Accuracy: 75.6402359008789, Test Loss: 0.5830568671226501, Test Accuracy: 78.67428588867188, spent_time: 13.388170993328094 min\n",
            "Epoch 15, Loss: 0.6566994786262512, Accuracy: 76.16199493408203, Test Loss: 0.5724974870681763, Test Accuracy: 79.05133056640625, spent_time: 14.337963815530141 min\n",
            "Epoch 16, Loss: 0.6423751711845398, Accuracy: 76.6319808959961, Test Loss: 0.5629751086235046, Test Accuracy: 79.36750030517578, spent_time: 15.282368580500284 min\n",
            "Epoch 17, Loss: 0.6295580267906189, Accuracy: 77.06314086914062, Test Loss: 0.5544211268424988, Test Accuracy: 79.67765045166016, spent_time: 16.21562843322754 min\n",
            "Epoch 18, Loss: 0.6175897717475891, Accuracy: 77.4620361328125, Test Loss: 0.54579758644104, Test Accuracy: 79.9977798461914, spent_time: 17.154286921024323 min\n",
            "Epoch 19, Loss: 0.6064995527267456, Accuracy: 77.83657836914062, Test Loss: 0.5379413962364197, Test Accuracy: 80.27315521240234, spent_time: 18.09996511141459 min\n",
            "Epoch 20, Loss: 0.5961022973060608, Accuracy: 78.18424987792969, Test Loss: 0.5302035212516785, Test Accuracy: 80.5405044555664, spent_time: 19.03998243411382 min\n",
            "Epoch 21, Loss: 0.5865333676338196, Accuracy: 78.50936889648438, Test Loss: 0.5229990482330322, Test Accuracy: 80.80619049072266, spent_time: 19.971084407965343 min\n",
            "Epoch 22, Loss: 0.5776172876358032, Accuracy: 78.8110580444336, Test Loss: 0.5171066522598267, Test Accuracy: 81.0213623046875, spent_time: 20.909741767247517 min\n",
            "Epoch 23, Loss: 0.5690970420837402, Accuracy: 79.09811401367188, Test Loss: 0.5112175941467285, Test Accuracy: 81.22869873046875, spent_time: 21.83782476981481 min\n",
            "Epoch 24, Loss: 0.5610637664794922, Accuracy: 79.37215423583984, Test Loss: 0.5055714249610901, Test Accuracy: 81.43708038330078, spent_time: 22.767659171422324 min\n",
            "Epoch 25, Loss: 0.5534607172012329, Accuracy: 79.63072967529297, Test Loss: 0.5001956224441528, Test Accuracy: 81.63279724121094, spent_time: 23.710232333342233 min\n",
            "Epoch 26, Loss: 0.5462654232978821, Accuracy: 79.87519836425781, Test Loss: 0.49508848786354065, Test Accuracy: 81.81538391113281, spent_time: 24.641075217723845 min\n",
            "Epoch 27, Loss: 0.5395985245704651, Accuracy: 80.10364532470703, Test Loss: 0.49024951457977295, Test Accuracy: 81.98629760742188, spent_time: 25.571876005331674 min\n",
            "Epoch 28, Loss: 0.5332103967666626, Accuracy: 80.32511901855469, Test Loss: 0.48576557636260986, Test Accuracy: 82.14892578125, spent_time: 26.503776745001474 min\n",
            "Epoch 29, Loss: 0.5270840525627136, Accuracy: 80.537353515625, Test Loss: 0.48141637444496155, Test Accuracy: 82.29000091552734, spent_time: 27.441362516085306 min\n",
            "Epoch 30, Loss: 0.521306574344635, Accuracy: 80.73628234863281, Test Loss: 0.47739100456237793, Test Accuracy: 82.43099975585938, spent_time: 28.37375195423762 min\n"
          ]
        }
      ]
    },
    {
      "cell_type": "markdown",
      "source": [
        "# 8.Show transition of accuracy"
      ],
      "metadata": {
        "id": "qnjefd4ihgXp"
      }
    },
    {
      "cell_type": "markdown",
      "source": [
        ""
      ],
      "metadata": {
        "id": "CutgNfPMNua4"
      }
    },
    {
      "cell_type": "code",
      "source": [
        "import matplotlib.pyplot as plt\n",
        "\n",
        "plt.plot(train_accuracies, label = 'Train Accuracy')\n",
        "plt.plot(test_accuracies, linestyle = 'dashed', label = 'Test Accuracy')\n",
        "plt.legend()\n",
        "plt.show()\n",
        "\n",
        "plt.plot(train_losses, label = 'Train Loss')\n",
        "plt.plot(test_losses, linestyle = 'dashed', label = 'Test Loss')\n",
        "plt.legend()\n",
        "plt.show() \n",
        "\n",
        "print(f'max train accuracy: {max(train_accuracies)}')\n",
        "print(f'max test accuracy: {max(test_accuracies)}')\n",
        "\n",
        "print(f'min train loss: {min(train_losses)}')\n",
        "print(f'min test loss: {min(test_losses)}')\n",
        "\n",
        "print(f'time: {spent_time/60} min')\n"
      ],
      "metadata": {
        "colab": {
          "base_uri": "https://localhost:8080/",
          "height": 602
        },
        "id": "2J4dnBhqPak3",
        "outputId": "caa9d752-0367-4c7b-f08c-aabf26fb6f3d"
      },
      "execution_count": 11,
      "outputs": [
        {
          "output_type": "display_data",
          "data": {
            "text/plain": [
              "<Figure size 432x288 with 1 Axes>"
            ],
            "image/png": "[encoded data removed]"
          },
          "metadata": {
            "needs_background": "light"
          }
        },
        {
          "output_type": "display_data",
          "data": {
            "text/plain": [
              "<Figure size 432x288 with 1 Axes>"
            ],
            "image/png": "[encoded data removed]"
          },
          "metadata": {
            "needs_background": "light"
          }
        },
        {
          "output_type": "stream",
          "name": "stdout",
          "text": [
            "max train accuracy: 0.8073627948760986\n",
            "max test accuracy: 0.8243100047111511\n",
            "min train loss: 0.521306574344635\n",
            "min test loss: 0.47739100456237793\n",
            "time: 28.37375195423762 min\n"
          ]
        }
      ]
    },
    {
      "cell_type": "code",
      "source": [
        ""
      ],
      "metadata": {
        "id": "1BC1DlyWF19A"
      },
      "execution_count": 11,
      "outputs": []
    }
  ],
  "metadata": {
    "accelerator": "GPU",
    "colab": {
      "name": "attempt5.ipynb",
      "provenance": [],
      "collapsed_sections": [],
      "include_colab_link": true
    },
    "kernelspec": {
      "display_name": "Python 3 (ipykernel)",
      "language": "python",
      "name": "python3"
    },
    "language_info": {
      "codemirror_mode": {
        "name": "ipython",
        "version": 3
      },
      "file_extension": ".py",
      "mimetype": "text/x-python",
      "name": "python",
      "nbconvert_exporter": "python",
      "pygments_lexer": "ipython3",
      "version": "3.7.3"
    }
  },
  "nbformat": 4,
  "nbformat_minor": 0
}
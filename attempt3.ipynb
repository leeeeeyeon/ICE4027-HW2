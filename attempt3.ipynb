{
  "cells": [
    {
      "cell_type": "markdown",
      "metadata": {
        "id": "view-in-github",
        "colab_type": "text"
      },
      "source": [
        "<a href=\"https://colab.research.google.com/github/leeeeeyeon/ICE4101-HW2/blob/main/attempt3.ipynb\" target=\"_parent\"><img src=\"https://colab.research.google.com/assets/colab-badge.svg\" alt=\"Open In Colab\"/></a>"
      ]
    },
    {
      "cell_type": "markdown",
      "source": [
        "# HW2\n",
        "\n",
        "*   Submit result analysis report (within 6 pages, at least 3 pages, pdf format)\n",
        "*   **Analysis of experimental results by modifying hyperparameters**\n",
        "(e.g. epoch, learning rate, optimizer, activation function ..)\n",
        "*   **Analysis and discussion through various experiments** is more important than improving performance\n",
        "*   Active use of tables and graphs\n",
        "*   If necessary, attach a link to your colab code\n",
        "*   Code is based on ResNet-50\n",
        "\n",
        "\n",
        "\n",
        "\n",
        "\n",
        "\n"
      ],
      "metadata": {
        "id": "o-uBl7-zuUNa"
      }
    },
    {
      "cell_type": "markdown",
      "source": [
        "# 1.Install TensorFlow 2.1.0"
      ],
      "metadata": {
        "id": "cgc8jD09hGas"
      }
    },
    {
      "cell_type": "code",
      "source": [
        "import tensorflow as tf\n",
        "tf.__version__"
      ],
      "metadata": {
        "colab": {
          "base_uri": "https://localhost:8080/",
          "height": 37
        },
        "id": "S4vW3uSZO5aV",
        "outputId": "4728635a-09fb-4eb9-8e19-98390a35ca7a"
      },
      "execution_count": 1,
      "outputs": [
        {
          "output_type": "execute_result",
          "data": {
            "text/plain": [
              "'2.1.0'"
            ],
            "application/vnd.google.colaboratory.intrinsic+json": {
              "type": "string"
            }
          },
          "metadata": {},
          "execution_count": 1
        }
      ]
    },
    {
      "cell_type": "code",
      "source": [
        "!pip uninstall tensorflow\n",
        "!pip install tensorflow==2.1.0"
      ],
      "metadata": {
        "colab": {
          "base_uri": "https://localhost:8080/",
          "height": 1000
        },
        "id": "LkchjzXKO_5Q",
        "outputId": "14734e19-003b-4a6a-a54d-15e8cb1fb6c7"
      },
      "execution_count": 2,
      "outputs": [
        {
          "output_type": "stream",
          "name": "stdout",
          "text": [
            "Found existing installation: tensorflow 2.1.0\n",
            "Uninstalling tensorflow-2.1.0:\n",
            "  Would remove:\n",
            "    /usr/local/bin/estimator_ckpt_converter\n",
            "    /usr/local/bin/saved_model_cli\n",
            "    /usr/local/bin/tensorboard\n",
            "    /usr/local/bin/tf_upgrade_v2\n",
            "    /usr/local/bin/tflite_convert\n",
            "    /usr/local/bin/toco\n",
            "    /usr/local/bin/toco_from_protos\n",
            "    /usr/local/lib/python3.7/dist-packages/tensorflow-2.1.0.dist-info/*\n",
            "    /usr/local/lib/python3.7/dist-packages/tensorflow/*\n",
            "    /usr/local/lib/python3.7/dist-packages/tensorflow_core/*\n",
            "Proceed (y/n)? y\n",
            "  Successfully uninstalled tensorflow-2.1.0\n",
            "Looking in indexes: https://pypi.org/simple, https://us-python.pkg.dev/colab-wheels/public/simple/\n",
            "Collecting tensorflow==2.1.0\n",
            "  Using cached tensorflow-2.1.0-cp37-cp37m-manylinux2010_x86_64.whl (421.8 MB)\n",
            "Requirement already satisfied: tensorboard<2.2.0,>=2.1.0 in /usr/local/lib/python3.7/dist-packages (from tensorflow==2.1.0) (2.1.1)\n",
            "Requirement already satisfied: protobuf>=3.8.0 in /usr/local/lib/python3.7/dist-packages (from tensorflow==2.1.0) (3.17.3)\n",
            "Requirement already satisfied: termcolor>=1.1.0 in /usr/local/lib/python3.7/dist-packages (from tensorflow==2.1.0) (1.1.0)\n",
            "Requirement already satisfied: opt-einsum>=2.3.2 in /usr/local/lib/python3.7/dist-packages (from tensorflow==2.1.0) (3.3.0)\n",
            "Requirement already satisfied: gast==0.2.2 in /usr/local/lib/python3.7/dist-packages (from tensorflow==2.1.0) (0.2.2)\n",
            "Requirement already satisfied: wrapt>=1.11.1 in /usr/local/lib/python3.7/dist-packages (from tensorflow==2.1.0) (1.14.1)\n",
            "Requirement already satisfied: keras-preprocessing>=1.1.0 in /usr/local/lib/python3.7/dist-packages (from tensorflow==2.1.0) (1.1.2)\n",
            "Requirement already satisfied: google-pasta>=0.1.6 in /usr/local/lib/python3.7/dist-packages (from tensorflow==2.1.0) (0.2.0)\n",
            "Requirement already satisfied: scipy==1.4.1 in /usr/local/lib/python3.7/dist-packages (from tensorflow==2.1.0) (1.4.1)\n",
            "Requirement already satisfied: absl-py>=0.7.0 in /usr/local/lib/python3.7/dist-packages (from tensorflow==2.1.0) (1.0.0)\n",
            "Requirement already satisfied: astor>=0.6.0 in /usr/local/lib/python3.7/dist-packages (from tensorflow==2.1.0) (0.8.1)\n",
            "Requirement already satisfied: six>=1.12.0 in /usr/local/lib/python3.7/dist-packages (from tensorflow==2.1.0) (1.15.0)\n",
            "Requirement already satisfied: wheel>=0.26 in /usr/local/lib/python3.7/dist-packages (from tensorflow==2.1.0) (0.37.1)\n",
            "Requirement already satisfied: numpy<2.0,>=1.16.0 in /usr/local/lib/python3.7/dist-packages (from tensorflow==2.1.0) (1.21.6)\n",
            "Requirement already satisfied: keras-applications>=1.0.8 in /usr/local/lib/python3.7/dist-packages (from tensorflow==2.1.0) (1.0.8)\n",
            "Requirement already satisfied: tensorflow-estimator<2.2.0,>=2.1.0rc0 in /usr/local/lib/python3.7/dist-packages (from tensorflow==2.1.0) (2.1.0)\n",
            "Requirement already satisfied: grpcio>=1.8.6 in /usr/local/lib/python3.7/dist-packages (from tensorflow==2.1.0) (1.46.1)\n",
            "Requirement already satisfied: h5py in /usr/local/lib/python3.7/dist-packages (from keras-applications>=1.0.8->tensorflow==2.1.0) (3.1.0)\n",
            "Requirement already satisfied: google-auth<2,>=1.6.3 in /usr/local/lib/python3.7/dist-packages (from tensorboard<2.2.0,>=2.1.0->tensorflow==2.1.0) (1.35.0)\n",
            "Requirement already satisfied: markdown>=2.6.8 in /usr/local/lib/python3.7/dist-packages (from tensorboard<2.2.0,>=2.1.0->tensorflow==2.1.0) (3.3.7)\n",
            "Requirement already satisfied: setuptools>=41.0.0 in /usr/local/lib/python3.7/dist-packages (from tensorboard<2.2.0,>=2.1.0->tensorflow==2.1.0) (57.4.0)\n",
            "Requirement already satisfied: google-auth-oauthlib<0.5,>=0.4.1 in /usr/local/lib/python3.7/dist-packages (from tensorboard<2.2.0,>=2.1.0->tensorflow==2.1.0) (0.4.6)\n",
            "Requirement already satisfied: werkzeug>=0.11.15 in /usr/local/lib/python3.7/dist-packages (from tensorboard<2.2.0,>=2.1.0->tensorflow==2.1.0) (1.0.1)\n",
            "Requirement already satisfied: requests<3,>=2.21.0 in /usr/local/lib/python3.7/dist-packages (from tensorboard<2.2.0,>=2.1.0->tensorflow==2.1.0) (2.23.0)\n",
            "Requirement already satisfied: rsa<5,>=3.1.4 in /usr/local/lib/python3.7/dist-packages (from google-auth<2,>=1.6.3->tensorboard<2.2.0,>=2.1.0->tensorflow==2.1.0) (4.8)\n",
            "Requirement already satisfied: pyasn1-modules>=0.2.1 in /usr/local/lib/python3.7/dist-packages (from google-auth<2,>=1.6.3->tensorboard<2.2.0,>=2.1.0->tensorflow==2.1.0) (0.2.8)\n",
            "Requirement already satisfied: cachetools<5.0,>=2.0.0 in /usr/local/lib/python3.7/dist-packages (from google-auth<2,>=1.6.3->tensorboard<2.2.0,>=2.1.0->tensorflow==2.1.0) (4.2.4)\n",
            "Requirement already satisfied: requests-oauthlib>=0.7.0 in /usr/local/lib/python3.7/dist-packages (from google-auth-oauthlib<0.5,>=0.4.1->tensorboard<2.2.0,>=2.1.0->tensorflow==2.1.0) (1.3.1)\n",
            "Requirement already satisfied: importlib-metadata>=4.4 in /usr/local/lib/python3.7/dist-packages (from markdown>=2.6.8->tensorboard<2.2.0,>=2.1.0->tensorflow==2.1.0) (4.11.3)\n",
            "Requirement already satisfied: typing-extensions>=3.6.4 in /usr/local/lib/python3.7/dist-packages (from importlib-metadata>=4.4->markdown>=2.6.8->tensorboard<2.2.0,>=2.1.0->tensorflow==2.1.0) (4.2.0)\n",
            "Requirement already satisfied: zipp>=0.5 in /usr/local/lib/python3.7/dist-packages (from importlib-metadata>=4.4->markdown>=2.6.8->tensorboard<2.2.0,>=2.1.0->tensorflow==2.1.0) (3.8.0)\n",
            "Requirement already satisfied: pyasn1<0.5.0,>=0.4.6 in /usr/local/lib/python3.7/dist-packages (from pyasn1-modules>=0.2.1->google-auth<2,>=1.6.3->tensorboard<2.2.0,>=2.1.0->tensorflow==2.1.0) (0.4.8)\n",
            "Requirement already satisfied: idna<3,>=2.5 in /usr/local/lib/python3.7/dist-packages (from requests<3,>=2.21.0->tensorboard<2.2.0,>=2.1.0->tensorflow==2.1.0) (2.10)\n",
            "Requirement already satisfied: certifi>=2017.4.17 in /usr/local/lib/python3.7/dist-packages (from requests<3,>=2.21.0->tensorboard<2.2.0,>=2.1.0->tensorflow==2.1.0) (2022.5.18.1)\n",
            "Requirement already satisfied: chardet<4,>=3.0.2 in /usr/local/lib/python3.7/dist-packages (from requests<3,>=2.21.0->tensorboard<2.2.0,>=2.1.0->tensorflow==2.1.0) (3.0.4)\n",
            "Requirement already satisfied: urllib3!=1.25.0,!=1.25.1,<1.26,>=1.21.1 in /usr/local/lib/python3.7/dist-packages (from requests<3,>=2.21.0->tensorboard<2.2.0,>=2.1.0->tensorflow==2.1.0) (1.24.3)\n",
            "Requirement already satisfied: oauthlib>=3.0.0 in /usr/local/lib/python3.7/dist-packages (from requests-oauthlib>=0.7.0->google-auth-oauthlib<0.5,>=0.4.1->tensorboard<2.2.0,>=2.1.0->tensorflow==2.1.0) (3.2.0)\n",
            "Requirement already satisfied: cached-property in /usr/local/lib/python3.7/dist-packages (from h5py->keras-applications>=1.0.8->tensorflow==2.1.0) (1.5.2)\n",
            "Installing collected packages: tensorflow\n",
            "Successfully installed tensorflow-2.1.0\n"
          ]
        },
        {
          "output_type": "display_data",
          "data": {
            "application/vnd.colab-display-data+json": {
              "pip_warning": {
                "packages": [
                  "tensorflow",
                  "tensorflow_core"
                ]
              }
            }
          },
          "metadata": {}
        }
      ]
    },
    {
      "cell_type": "markdown",
      "source": [
        "# 2.Runtime restart\n",
        "\n",
        "**런타임 -> 런타임 다시 시작 -> 다음 코드 진행**"
      ],
      "metadata": {
        "id": "PCe8FggEZimh"
      }
    },
    {
      "cell_type": "markdown",
      "source": [
        "# 3.Prepare dataset"
      ],
      "metadata": {
        "id": "z3JBDs8YhThj"
      }
    },
    {
      "cell_type": "code",
      "source": [
        "import tensorflow_datasets as tfds\n",
        "import tensorflow as tf\n",
        "\n",
        "#print(tfds.list_builders())\n",
        "dataset, info = tfds.load('fashion_mnist', as_supervised = True, with_info = True)\n",
        "dataset_test, dataset_train = dataset['test'], dataset['train']\n",
        "print(info)"
      ],
      "metadata": {
        "colab": {
          "base_uri": "https://localhost:8080/"
        },
        "id": "9UuRZP_QPCQj",
        "outputId": "3046f542-a12b-43bf-8e9d-0cc81972fcf2"
      },
      "execution_count": 3,
      "outputs": [
        {
          "output_type": "stream",
          "name": "stdout",
          "text": [
            "tfds.core.DatasetInfo(\n",
            "    name='fashion_mnist',\n",
            "    version=3.0.1,\n",
            "    description='Fashion-MNIST is a dataset of Zalando's article images consisting of a training set of 60,000 examples and a test set of 10,000 examples. Each example is a 28x28 grayscale image, associated with a label from 10 classes.',\n",
            "    homepage='https://github.com/zalandoresearch/fashion-mnist',\n",
            "    features=FeaturesDict({\n",
            "        'image': Image(shape=(28, 28, 1), dtype=tf.uint8),\n",
            "        'label': ClassLabel(shape=(), dtype=tf.int64, num_classes=10),\n",
            "    }),\n",
            "    total_num_examples=70000,\n",
            "    splits={\n",
            "        'test': 10000,\n",
            "        'train': 60000,\n",
            "    },\n",
            "    supervised_keys=('image', 'label'),\n",
            "    citation=\"\"\"@article{DBLP:journals/corr/abs-1708-07747,\n",
            "      author    = {Han Xiao and\n",
            "                   Kashif Rasul and\n",
            "                   Roland Vollgraf},\n",
            "      title     = {Fashion-MNIST: a Novel Image Dataset for Benchmarking Machine Learning\n",
            "                   Algorithms},\n",
            "      journal   = {CoRR},\n",
            "      volume    = {abs/1708.07747},\n",
            "      year      = {2017},\n",
            "      url       = {http://arxiv.org/abs/1708.07747},\n",
            "      archivePrefix = {arXiv},\n",
            "      eprint    = {1708.07747},\n",
            "      timestamp = {Mon, 13 Aug 2018 16:47:27 +0200},\n",
            "      biburl    = {https://dblp.org/rec/bib/journals/corr/abs-1708-07747},\n",
            "      bibsource = {dblp computer science bibliography, https://dblp.org}\n",
            "    }\"\"\",\n",
            "    redistribution_info=,\n",
            ")\n",
            "\n"
          ]
        }
      ]
    },
    {
      "cell_type": "code",
      "source": [
        "def convert_types(image, label):\n",
        "    image = tf.cast(image, tf.float32)\n",
        "    image /= 255\n",
        "    return image, label\n",
        "\n",
        "batch_size = 256 # >>>>>>>>>>>>> hyperparameters <<<<<<<<<<<<<<<<<<\n",
        "\n",
        "dataset_train = dataset_train.map(convert_types).shuffle(10000).batch(batch_size)\n",
        "dataset_test = dataset_test.map(convert_types).batch(batch_size)"
      ],
      "metadata": {
        "id": "4rGtwLm0PEE2"
      },
      "execution_count": 4,
      "outputs": []
    },
    {
      "cell_type": "markdown",
      "source": [
        "# 4.Data Agumentation"
      ],
      "metadata": {
        "id": "JwIjNYfbhWpL"
      }
    },
    {
      "cell_type": "code",
      "source": [
        "from tensorflow.keras.preprocessing.image import ImageDataGenerator\n",
        "\n",
        "#datagen = ImageDataGenerator()\n",
        "datagen = ImageDataGenerator(rotation_range = 10, horizontal_flip = True, zoom_range = 0.1)\n"
      ],
      "metadata": {
        "id": "8sOFTmAaPFRx"
      },
      "execution_count": 5,
      "outputs": []
    },
    {
      "cell_type": "markdown",
      "source": [
        "# 5.Define model"
      ],
      "metadata": {
        "id": "QCNx3jNmhYTh"
      }
    },
    {
      "cell_type": "code",
      "source": [
        "from tensorflow.keras.layers import Conv2D, Dense, BatchNormalization, Activation, MaxPool2D, GlobalAveragePooling2D, Add\n",
        "from tensorflow.keras import Model\n",
        "\n",
        "class ResidualBlock(Model):\n",
        "    def __init__(self, channel_in = 64, channel_out = 256):\n",
        "        super().__init__()\n",
        "        \n",
        "        channel = channel_out // 4\n",
        "        \n",
        "        self.conv1 = Conv2D(channel, kernel_size = (1, 1), padding = \"same\")\n",
        "        self.bn1 = BatchNormalization()\n",
        "        self.av1 = Activation(tf.nn.relu)\n",
        "        self.conv2 = Conv2D(channel, kernel_size = (3, 3), padding = \"same\")\n",
        "        self.bn2 = BatchNormalization()\n",
        "        self.av2 = Activation(tf.nn.relu)\n",
        "        self.conv3 = Conv2D(channel_out, kernel_size = (1, 1), padding = \"same\")\n",
        "        self.bn3 = BatchNormalization()\n",
        "        self.shortcut = self._shortcut(channel_in, channel_out)\n",
        "        self.add = Add()\n",
        "        self.av3 = Activation(tf.nn.relu)\n",
        "        \n",
        "    def call(self, x):\n",
        "        h = self.conv1(x)\n",
        "        h = self.bn1(h)\n",
        "        h = self.av1(h)\n",
        "        h = self.conv2(h)\n",
        "        h = self.bn2(h)\n",
        "        h = self.av2(h)\n",
        "        h = self.conv3(h)\n",
        "        h = self.bn3(h)\n",
        "        shortcut = self.shortcut(x)\n",
        "        h = self.add([h, shortcut])\n",
        "        y = self.av3(h)\n",
        "        return y\n",
        "    \n",
        "    def _shortcut(self, channel_in, channel_out):\n",
        "        if channel_in == channel_out:\n",
        "            return lambda x : x\n",
        "        else:\n",
        "            return self._projection(channel_out)\n",
        "        \n",
        "    def _projection(self, channel_out):\n",
        "        return Conv2D(channel_out, kernel_size = (1, 1), padding = \"same\")\n",
        "           \n",
        "class ResNet50(Model):\n",
        "    def __init__(self, input_shape, output_dim):\n",
        "        super().__init__()                \n",
        "        \n",
        "        self._layers = [\n",
        "            # conv1\n",
        "            Conv2D(64, input_shape = input_shape, kernel_size = (7, 7), strides=(2, 2), padding = \"same\"),\n",
        "            BatchNormalization(),\n",
        "            Activation(tf.nn.relu),\n",
        "            # conv2_x\n",
        "            MaxPool2D(pool_size = (3, 3), strides = (2, 2), padding = \"same\"),\n",
        "            ResidualBlock(64, 256),\n",
        "            [\n",
        "                ResidualBlock(256, 256) for _ in range(2)                \n",
        "            ],\n",
        "            # conv3_x\n",
        "            Conv2D(512, kernel_size = (1, 1), strides=(2, 2)),\n",
        "            [\n",
        "                ResidualBlock(512, 512) for _ in range(4)                \n",
        "            ],\n",
        "            # conv4_x\n",
        "            Conv2D(1024, kernel_size = (1, 1), strides=(2, 2)),\n",
        "            [\n",
        "                ResidualBlock(1024, 1024) for _ in range(6)                \n",
        "            ],\n",
        "            # conv5_x\n",
        "            Conv2D(2048, kernel_size = (1, 1), strides=(2, 2)),\n",
        "            [\n",
        "                ResidualBlock(2048, 2048) for _ in range(3)\n",
        "            ],\n",
        "            # last part\n",
        "            GlobalAveragePooling2D(),\n",
        "            Dense(1000, activation = tf.nn.relu),\n",
        "            Dense(output_dim, activation = tf.nn.softmax)\n",
        "        ]\n",
        "        \n",
        "    def call(self, x):\n",
        "        for layer in self._layers:\n",
        "            if isinstance(layer, list):\n",
        "                for l in layer:\n",
        "                    x = l(x)    \n",
        "            else:\n",
        "                x = layer(x)\n",
        "        return x\n",
        "       \n",
        "    \n",
        "model = ResNet50((28, 28, 1), 10)\n",
        "model.build(input_shape = (None, 28, 28, 1))\n",
        "model.summary()"
      ],
      "metadata": {
        "colab": {
          "base_uri": "https://localhost:8080/"
        },
        "id": "jWJUZukSPGX_",
        "outputId": "4948f27a-0aa8-4ecc-9f05-bd3408a682a5"
      },
      "execution_count": 6,
      "outputs": [
        {
          "output_type": "stream",
          "name": "stdout",
          "text": [
            "Model: \"res_net50\"\n",
            "_________________________________________________________________\n",
            "Layer (type)                 Output Shape              Param #   \n",
            "=================================================================\n",
            "conv2d (Conv2D)              multiple                  3200      \n",
            "_________________________________________________________________\n",
            "batch_normalization (BatchNo multiple                  256       \n",
            "_________________________________________________________________\n",
            "activation (Activation)      multiple                  0         \n",
            "_________________________________________________________________\n",
            "max_pooling2d (MaxPooling2D) multiple                  0         \n",
            "_________________________________________________________________\n",
            "residual_block (ResidualBloc multiple                  75904     \n",
            "_________________________________________________________________\n",
            "residual_block_1 (ResidualBl multiple                  71552     \n",
            "_________________________________________________________________\n",
            "residual_block_2 (ResidualBl multiple                  71552     \n",
            "_________________________________________________________________\n",
            "conv2d_11 (Conv2D)           multiple                  131584    \n",
            "_________________________________________________________________\n",
            "residual_block_3 (ResidualBl multiple                  282368    \n",
            "_________________________________________________________________\n",
            "residual_block_4 (ResidualBl multiple                  282368    \n",
            "_________________________________________________________________\n",
            "residual_block_5 (ResidualBl multiple                  282368    \n",
            "_________________________________________________________________\n",
            "residual_block_6 (ResidualBl multiple                  282368    \n",
            "_________________________________________________________________\n",
            "conv2d_24 (Conv2D)           multiple                  525312    \n",
            "_________________________________________________________________\n",
            "residual_block_7 (ResidualBl multiple                  1121792   \n",
            "_________________________________________________________________\n",
            "residual_block_8 (ResidualBl multiple                  1121792   \n",
            "_________________________________________________________________\n",
            "residual_block_9 (ResidualBl multiple                  1121792   \n",
            "_________________________________________________________________\n",
            "residual_block_10 (ResidualB multiple                  1121792   \n",
            "_________________________________________________________________\n",
            "residual_block_11 (ResidualB multiple                  1121792   \n",
            "_________________________________________________________________\n",
            "residual_block_12 (ResidualB multiple                  1121792   \n",
            "_________________________________________________________________\n",
            "conv2d_43 (Conv2D)           multiple                  2099200   \n",
            "_________________________________________________________________\n",
            "residual_block_13 (ResidualB multiple                  4471808   \n",
            "_________________________________________________________________\n",
            "residual_block_14 (ResidualB multiple                  4471808   \n",
            "_________________________________________________________________\n",
            "residual_block_15 (ResidualB multiple                  4471808   \n",
            "_________________________________________________________________\n",
            "global_average_pooling2d (Gl multiple                  0         \n",
            "_________________________________________________________________\n",
            "dense (Dense)                multiple                  2049000   \n",
            "_________________________________________________________________\n",
            "dense_1 (Dense)              multiple                  10010     \n",
            "=================================================================\n",
            "Total params: 26,313,218\n",
            "Trainable params: 26,267,778\n",
            "Non-trainable params: 45,440\n",
            "_________________________________________________________________\n"
          ]
        }
      ]
    },
    {
      "cell_type": "code",
      "source": [
        "# >>>>>>>>>>>>> hyperparameters <<<<<<<<<<<<<<<<<<\n",
        "\n",
        "loss_object = tf.keras.losses.SparseCategoricalCrossentropy()\n",
        "# optimizer = tf.keras.optimizers.Adamax(lr=0.02, beta_1=0.9, beta_2=0.999, epsilon=None, decay=0.0)\n",
        "optimizer = tf.keras.optimizers.SGD(learning_rate = 0.1, momentum = 0.9, decay =  0.0001)"
      ],
      "metadata": {
        "id": "Kq2-KWm1PIMB"
      },
      "execution_count": 7,
      "outputs": []
    },
    {
      "cell_type": "markdown",
      "source": [
        "# 6.Prepare training"
      ],
      "metadata": {
        "id": "N5ngl-FfhbUd"
      }
    },
    {
      "cell_type": "code",
      "source": [
        "train_loss = tf.keras.metrics.Mean(name = 'train_loss')\n",
        "train_accuracy = tf.keras.metrics.SparseCategoricalAccuracy(name = 'train_accuracy')\n",
        "\n",
        "test_loss = tf.keras.metrics.Mean(name = 'test_loss')\n",
        "test_accuracy = tf.keras.metrics.SparseCategoricalAccuracy(name = 'test_accuracy')\n"
      ],
      "metadata": {
        "id": "TlxiC91MPJmz"
      },
      "execution_count": 8,
      "outputs": []
    },
    {
      "cell_type": "code",
      "source": [
        "def train_step(image, label):\n",
        "    with tf.GradientTape() as tape:\n",
        "        predictions = model(image)\n",
        "        loss = loss_object(label, predictions)\n",
        "    gradients = tape.gradient(loss, model.trainable_variables)\n",
        "    optimizer.apply_gradients(zip(gradients, model.trainable_variables))\n",
        "    \n",
        "    train_loss(loss)\n",
        "    train_accuracy(label, predictions)\n",
        "        \n",
        "@tf.function\n",
        "def test_step(image, label):\n",
        "    predictions = model(image)\n",
        "    loss = loss_object(label, predictions)\n",
        "    \n",
        "    test_loss(loss)\n",
        "    test_accuracy(label, predictions)"
      ],
      "metadata": {
        "id": "mzY7PLXTPXdD"
      },
      "execution_count": 9,
      "outputs": []
    },
    {
      "cell_type": "markdown",
      "source": [
        "# 7.Train"
      ],
      "metadata": {
        "id": "NLuFGAArhc9d"
      }
    },
    {
      "cell_type": "code",
      "source": [
        "import time\n",
        "\n",
        "num_epoch = 30 # >>>>>>>>>>>>> hyperparameters <<<<<<<<<<<<<<<<<<\n",
        "start_time = time.time()\n",
        "\n",
        "train_accuracies = []\n",
        "test_accuracies = []\n",
        "\n",
        "train_losses = []\n",
        "test_losses = []\n",
        "\n",
        "for epoch in range(num_epoch):    \n",
        "    for image, label in dataset_train:\n",
        "        for _image, _label in datagen.flow(image, label, batch_size = batch_size):\n",
        "            train_step(_image, _label)\n",
        "            break\n",
        "        \n",
        "    for test_image, test_label in dataset_test:\n",
        "        test_step(test_image, test_label)\n",
        "        \n",
        "    train_accuracies.append(train_accuracy.result())\n",
        "    test_accuracies.append(test_accuracy.result()) \n",
        "    train_losses.append(train_loss.result())\n",
        "    test_losses.append(test_loss.result())   \n",
        "    \n",
        "    template = 'Epoch {}, Loss: {}, Accuracy: {}, Test Loss: {}, Test Accuracy: {}, spent_time: {} min'\n",
        "    spent_time = time.time() - start_time\n",
        "    print(template.format(epoch + 1, train_loss.result(), train_accuracy.result() * 100, test_loss.result(), test_accuracy.result() * 100, spent_time / 60))"
      ],
      "metadata": {
        "colab": {
          "base_uri": "https://localhost:8080/"
        },
        "id": "xnct6_UjPZOU",
        "outputId": "7bde5670-44c8-423e-d9cf-5cf9127894e2"
      },
      "execution_count": 10,
      "outputs": [
        {
          "output_type": "stream",
          "name": "stdout",
          "text": [
            "Epoch 1, Loss: 1.7402427196502686, Accuracy: 33.176666259765625, Test Loss: 0.8314772844314575, Test Accuracy: 68.23999786376953, spent_time: 1.1911490043004354 min\n",
            "Epoch 2, Loss: 1.2159092426300049, Accuracy: 53.45166778564453, Test Loss: 0.6995124816894531, Test Accuracy: 73.58999633789062, spent_time: 2.1263224760691326 min\n",
            "Epoch 3, Loss: 0.9944281578063965, Accuracy: 61.95166778564453, Test Loss: 0.6434763669967651, Test Accuracy: 76.0, spent_time: 3.06485382715861 min\n",
            "Epoch 4, Loss: 0.8682935237884521, Accuracy: 66.79708099365234, Test Loss: 0.5977069139480591, Test Accuracy: 77.67500305175781, spent_time: 4.002028183142344 min\n",
            "Epoch 5, Loss: 0.782747745513916, Accuracy: 70.09733581542969, Test Loss: 0.5636646151542664, Test Accuracy: 79.04000091552734, spent_time: 4.9311995307604475 min\n",
            "Epoch 6, Loss: 0.721458375453949, Accuracy: 72.45055389404297, Test Loss: 0.5370117425918579, Test Accuracy: 80.19000244140625, spent_time: 5.835716740290324 min\n",
            "Epoch 7, Loss: 0.6746931076049805, Accuracy: 74.24404907226562, Test Loss: 0.518738865852356, Test Accuracy: 80.94999694824219, spent_time: 6.748041049639384 min\n",
            "Epoch 8, Loss: 0.637394905090332, Accuracy: 75.66728973388672, Test Loss: 0.5018569827079773, Test Accuracy: 81.5675048828125, spent_time: 7.661278871695201 min\n",
            "Epoch 9, Loss: 0.6076912879943848, Accuracy: 76.81074523925781, Test Loss: 0.4858347475528717, Test Accuracy: 82.1433334350586, spent_time: 8.589200075467428 min\n",
            "Epoch 10, Loss: 0.5816599726676941, Accuracy: 77.81400299072266, Test Loss: 0.4718334674835205, Test Accuracy: 82.69100189208984, spent_time: 9.513333920637766 min\n",
            "Epoch 11, Loss: 0.5599266886711121, Accuracy: 78.65424346923828, Test Loss: 0.46035236120224, Test Accuracy: 83.1263656616211, spent_time: 10.432753348350525 min\n",
            "Epoch 12, Loss: 0.5410955548286438, Accuracy: 79.36582946777344, Test Loss: 0.45051220059394836, Test Accuracy: 83.48916625976562, spent_time: 11.35065443913142 min\n",
            "Epoch 13, Loss: 0.5239066481590271, Accuracy: 80.03038024902344, Test Loss: 0.44169875979423523, Test Accuracy: 83.85845947265625, spent_time: 12.279701912403107 min\n",
            "Epoch 14, Loss: 0.5089146494865417, Accuracy: 80.59832763671875, Test Loss: 0.43581289052963257, Test Accuracy: 84.05643463134766, spent_time: 13.20214741230011 min\n",
            "Epoch 15, Loss: 0.4952276945114136, Accuracy: 81.12255096435547, Test Loss: 0.4271942675113678, Test Accuracy: 84.3499984741211, spent_time: 14.127583690484364 min\n",
            "Epoch 16, Loss: 0.4830304980278015, Accuracy: 81.58521270751953, Test Loss: 0.4198860228061676, Test Accuracy: 84.62250518798828, spent_time: 15.037293322881062 min\n",
            "Epoch 17, Loss: 0.47188177704811096, Accuracy: 82.0113754272461, Test Loss: 0.41360777616500854, Test Accuracy: 84.86588287353516, spent_time: 15.946650222937267 min\n",
            "Epoch 18, Loss: 0.4615860879421234, Accuracy: 82.40657806396484, Test Loss: 0.4073042571544647, Test Accuracy: 85.0816650390625, spent_time: 16.871283014615376 min\n",
            "Epoch 19, Loss: 0.45190829038619995, Accuracy: 82.77079010009766, Test Loss: 0.4018564224243164, Test Accuracy: 85.27632141113281, spent_time: 17.78164123694102 min\n",
            "Epoch 20, Loss: 0.44321537017822266, Accuracy: 83.09308624267578, Test Loss: 0.39690101146698, Test Accuracy: 85.45449829101562, spent_time: 18.695958586533866 min\n",
            "Epoch 21, Loss: 0.43484580516815186, Accuracy: 83.40705871582031, Test Loss: 0.39231395721435547, Test Accuracy: 85.66238403320312, spent_time: 19.61128139893214 min\n",
            "Epoch 22, Loss: 0.42718103528022766, Accuracy: 83.69378662109375, Test Loss: 0.3870162069797516, Test Accuracy: 85.84454345703125, spent_time: 20.527995375792184 min\n",
            "Epoch 23, Loss: 0.4199759364128113, Accuracy: 83.97000122070312, Test Loss: 0.38261082768440247, Test Accuracy: 86.02130126953125, spent_time: 21.434773874282836 min\n",
            "Epoch 24, Loss: 0.41307511925697327, Accuracy: 84.23055267333984, Test Loss: 0.37868836522102356, Test Accuracy: 86.16999816894531, spent_time: 22.356434218088786 min\n",
            "Epoch 25, Loss: 0.40658435225486755, Accuracy: 84.47460174560547, Test Loss: 0.3749789893627167, Test Accuracy: 86.31719970703125, spent_time: 23.271535261472067 min\n",
            "Epoch 26, Loss: 0.4005007743835449, Accuracy: 84.70903778076172, Test Loss: 0.37103933095932007, Test Accuracy: 86.459228515625, spent_time: 24.178043548266093 min\n",
            "Epoch 27, Loss: 0.39474427700042725, Accuracy: 84.92765808105469, Test Loss: 0.3677559196949005, Test Accuracy: 86.59185028076172, spent_time: 25.089914298057558 min\n",
            "Epoch 28, Loss: 0.3891948461532593, Accuracy: 85.13713836669922, Test Loss: 0.3650207221508026, Test Accuracy: 86.70214080810547, spent_time: 26.000442190965018 min\n",
            "Epoch 29, Loss: 0.38386020064353943, Accuracy: 85.33821868896484, Test Loss: 0.36149248480796814, Test Accuracy: 86.82413482666016, spent_time: 26.906280052661895 min\n",
            "Epoch 30, Loss: 0.37874436378479004, Accuracy: 85.52928161621094, Test Loss: 0.3581802248954773, Test Accuracy: 86.94599914550781, spent_time: 27.806455520788827 min\n"
          ]
        }
      ]
    },
    {
      "cell_type": "markdown",
      "source": [
        "# 8.Show transition of accuracy"
      ],
      "metadata": {
        "id": "qnjefd4ihgXp"
      }
    },
    {
      "cell_type": "code",
      "source": [
        "import matplotlib.pyplot as plt\n",
        "\n",
        "plt.plot(train_accuracies, label = 'Train Accuracy')\n",
        "plt.plot(test_accuracies, linestyle = 'dashed', label = 'Test Accuracy')\n",
        "plt.legend()\n",
        "plt.show()                                                                                                                  "
      ],
      "metadata": {
        "colab": {
          "base_uri": "https://localhost:8080/",
          "height": 265
        },
        "id": "2J4dnBhqPak3",
        "outputId": "cf18b9d1-0525-447a-f90a-de5c866d8f8f"
      },
      "execution_count": 11,
      "outputs": [
        {
          "output_type": "display_data",
          "data": {
            "text/plain": [
              "<Figure size 432x288 with 1 Axes>"
            ],
            "image/png": "[encoded data removed]"
          },
          "metadata": {
            "needs_background": "light"
          }
        }
      ]
    },
    {
      "cell_type": "code",
      "source": [
        "print(train_accuracies)\n",
        "print(test_accuracies)\n",
        "\n",
        "print(train_losses)\n",
        "print(test_losses)"
      ],
      "metadata": {
        "colab": {
          "base_uri": "https://localhost:8080/"
        },
        "id": "xX4qcKqAveF6",
        "outputId": "5d9c9a13-6fcf-426a-fd64-cf5ff0f579d0"
      },
      "execution_count": 12,
      "outputs": [
        {
          "output_type": "stream",
          "name": "stdout",
          "text": [
            "[<tf.Tensor: shape=(), dtype=float32, numpy=0.33176666>, <tf.Tensor: shape=(), dtype=float32, numpy=0.5345167>, <tf.Tensor: shape=(), dtype=float32, numpy=0.6195167>, <tf.Tensor: shape=(), dtype=float32, numpy=0.66797084>, <tf.Tensor: shape=(), dtype=float32, numpy=0.70097333>, <tf.Tensor: shape=(), dtype=float32, numpy=0.72450554>, <tf.Tensor: shape=(), dtype=float32, numpy=0.74244046>, <tf.Tensor: shape=(), dtype=float32, numpy=0.7566729>, <tf.Tensor: shape=(), dtype=float32, numpy=0.7681074>, <tf.Tensor: shape=(), dtype=float32, numpy=0.77814>, <tf.Tensor: shape=(), dtype=float32, numpy=0.7865424>, <tf.Tensor: shape=(), dtype=float32, numpy=0.7936583>, <tf.Tensor: shape=(), dtype=float32, numpy=0.8003038>, <tf.Tensor: shape=(), dtype=float32, numpy=0.8059833>, <tf.Tensor: shape=(), dtype=float32, numpy=0.81122553>, <tf.Tensor: shape=(), dtype=float32, numpy=0.8158521>, <tf.Tensor: shape=(), dtype=float32, numpy=0.8201137>, <tf.Tensor: shape=(), dtype=float32, numpy=0.82406574>, <tf.Tensor: shape=(), dtype=float32, numpy=0.8277079>, <tf.Tensor: shape=(), dtype=float32, numpy=0.8309308>, <tf.Tensor: shape=(), dtype=float32, numpy=0.8340706>, <tf.Tensor: shape=(), dtype=float32, numpy=0.8369379>, <tf.Tensor: shape=(), dtype=float32, numpy=0.8397>, <tf.Tensor: shape=(), dtype=float32, numpy=0.84230554>, <tf.Tensor: shape=(), dtype=float32, numpy=0.844746>, <tf.Tensor: shape=(), dtype=float32, numpy=0.84709036>, <tf.Tensor: shape=(), dtype=float32, numpy=0.84927654>, <tf.Tensor: shape=(), dtype=float32, numpy=0.8513714>, <tf.Tensor: shape=(), dtype=float32, numpy=0.8533822>, <tf.Tensor: shape=(), dtype=float32, numpy=0.8552928>]\n",
            "[<tf.Tensor: shape=(), dtype=float32, numpy=0.6824>, <tf.Tensor: shape=(), dtype=float32, numpy=0.7359>, <tf.Tensor: shape=(), dtype=float32, numpy=0.76>, <tf.Tensor: shape=(), dtype=float32, numpy=0.77675>, <tf.Tensor: shape=(), dtype=float32, numpy=0.7904>, <tf.Tensor: shape=(), dtype=float32, numpy=0.8019>, <tf.Tensor: shape=(), dtype=float32, numpy=0.8095>, <tf.Tensor: shape=(), dtype=float32, numpy=0.815675>, <tf.Tensor: shape=(), dtype=float32, numpy=0.8214333>, <tf.Tensor: shape=(), dtype=float32, numpy=0.82691>, <tf.Tensor: shape=(), dtype=float32, numpy=0.83126366>, <tf.Tensor: shape=(), dtype=float32, numpy=0.8348917>, <tf.Tensor: shape=(), dtype=float32, numpy=0.8385846>, <tf.Tensor: shape=(), dtype=float32, numpy=0.8405643>, <tf.Tensor: shape=(), dtype=float32, numpy=0.8435>, <tf.Tensor: shape=(), dtype=float32, numpy=0.846225>, <tf.Tensor: shape=(), dtype=float32, numpy=0.8486588>, <tf.Tensor: shape=(), dtype=float32, numpy=0.85081667>, <tf.Tensor: shape=(), dtype=float32, numpy=0.8527632>, <tf.Tensor: shape=(), dtype=float32, numpy=0.854545>, <tf.Tensor: shape=(), dtype=float32, numpy=0.8566238>, <tf.Tensor: shape=(), dtype=float32, numpy=0.85844547>, <tf.Tensor: shape=(), dtype=float32, numpy=0.86021304>, <tf.Tensor: shape=(), dtype=float32, numpy=0.8617>, <tf.Tensor: shape=(), dtype=float32, numpy=0.863172>, <tf.Tensor: shape=(), dtype=float32, numpy=0.8645923>, <tf.Tensor: shape=(), dtype=float32, numpy=0.8659185>, <tf.Tensor: shape=(), dtype=float32, numpy=0.86702144>, <tf.Tensor: shape=(), dtype=float32, numpy=0.86824137>, <tf.Tensor: shape=(), dtype=float32, numpy=0.86946>]\n",
            "[<tf.Tensor: shape=(), dtype=float32, numpy=1.7402427>, <tf.Tensor: shape=(), dtype=float32, numpy=1.2159092>, <tf.Tensor: shape=(), dtype=float32, numpy=0.99442816>, <tf.Tensor: shape=(), dtype=float32, numpy=0.8682935>, <tf.Tensor: shape=(), dtype=float32, numpy=0.78274775>, <tf.Tensor: shape=(), dtype=float32, numpy=0.7214584>, <tf.Tensor: shape=(), dtype=float32, numpy=0.6746931>, <tf.Tensor: shape=(), dtype=float32, numpy=0.6373949>, <tf.Tensor: shape=(), dtype=float32, numpy=0.6076913>, <tf.Tensor: shape=(), dtype=float32, numpy=0.58166>, <tf.Tensor: shape=(), dtype=float32, numpy=0.5599267>, <tf.Tensor: shape=(), dtype=float32, numpy=0.54109555>, <tf.Tensor: shape=(), dtype=float32, numpy=0.52390665>, <tf.Tensor: shape=(), dtype=float32, numpy=0.50891465>, <tf.Tensor: shape=(), dtype=float32, numpy=0.4952277>, <tf.Tensor: shape=(), dtype=float32, numpy=0.4830305>, <tf.Tensor: shape=(), dtype=float32, numpy=0.47188178>, <tf.Tensor: shape=(), dtype=float32, numpy=0.4615861>, <tf.Tensor: shape=(), dtype=float32, numpy=0.4519083>, <tf.Tensor: shape=(), dtype=float32, numpy=0.44321537>, <tf.Tensor: shape=(), dtype=float32, numpy=0.4348458>, <tf.Tensor: shape=(), dtype=float32, numpy=0.42718104>, <tf.Tensor: shape=(), dtype=float32, numpy=0.41997594>, <tf.Tensor: shape=(), dtype=float32, numpy=0.41307512>, <tf.Tensor: shape=(), dtype=float32, numpy=0.40658435>, <tf.Tensor: shape=(), dtype=float32, numpy=0.40050077>, <tf.Tensor: shape=(), dtype=float32, numpy=0.39474428>, <tf.Tensor: shape=(), dtype=float32, numpy=0.38919485>, <tf.Tensor: shape=(), dtype=float32, numpy=0.3838602>, <tf.Tensor: shape=(), dtype=float32, numpy=0.37874436>]\n",
            "[<tf.Tensor: shape=(), dtype=float32, numpy=0.8314773>, <tf.Tensor: shape=(), dtype=float32, numpy=0.6995125>, <tf.Tensor: shape=(), dtype=float32, numpy=0.64347637>, <tf.Tensor: shape=(), dtype=float32, numpy=0.5977069>, <tf.Tensor: shape=(), dtype=float32, numpy=0.5636646>, <tf.Tensor: shape=(), dtype=float32, numpy=0.53701174>, <tf.Tensor: shape=(), dtype=float32, numpy=0.51873887>, <tf.Tensor: shape=(), dtype=float32, numpy=0.501857>, <tf.Tensor: shape=(), dtype=float32, numpy=0.48583475>, <tf.Tensor: shape=(), dtype=float32, numpy=0.47183347>, <tf.Tensor: shape=(), dtype=float32, numpy=0.46035236>, <tf.Tensor: shape=(), dtype=float32, numpy=0.4505122>, <tf.Tensor: shape=(), dtype=float32, numpy=0.44169876>, <tf.Tensor: shape=(), dtype=float32, numpy=0.4358129>, <tf.Tensor: shape=(), dtype=float32, numpy=0.42719427>, <tf.Tensor: shape=(), dtype=float32, numpy=0.41988602>, <tf.Tensor: shape=(), dtype=float32, numpy=0.41360778>, <tf.Tensor: shape=(), dtype=float32, numpy=0.40730426>, <tf.Tensor: shape=(), dtype=float32, numpy=0.40185642>, <tf.Tensor: shape=(), dtype=float32, numpy=0.396901>, <tf.Tensor: shape=(), dtype=float32, numpy=0.39231396>, <tf.Tensor: shape=(), dtype=float32, numpy=0.3870162>, <tf.Tensor: shape=(), dtype=float32, numpy=0.38261083>, <tf.Tensor: shape=(), dtype=float32, numpy=0.37868837>, <tf.Tensor: shape=(), dtype=float32, numpy=0.374979>, <tf.Tensor: shape=(), dtype=float32, numpy=0.37103933>, <tf.Tensor: shape=(), dtype=float32, numpy=0.36775592>, <tf.Tensor: shape=(), dtype=float32, numpy=0.36502072>, <tf.Tensor: shape=(), dtype=float32, numpy=0.36149248>, <tf.Tensor: shape=(), dtype=float32, numpy=0.35818022>]\n"
          ]
        }
      ]
    },
    {
      "cell_type": "code",
      "source": [
        ""
      ],
      "metadata": {
        "id": "hvKd-DR-Y8z_"
      },
      "execution_count": null,
      "outputs": []
    }
  ],
  "metadata": {
    "accelerator": "GPU",
    "colab": {
      "name": "attempt3.ipynb",
      "provenance": [],
      "collapsed_sections": [],
      "include_colab_link": true
    },
    "kernelspec": {
      "display_name": "Python 3 (ipykernel)",
      "language": "python",
      "name": "python3"
    },
    "language_info": {
      "codemirror_mode": {
        "name": "ipython",
        "version": 3
      },
      "file_extension": ".py",
      "mimetype": "text/x-python",
      "name": "python",
      "nbconvert_exporter": "python",
      "pygments_lexer": "ipython3",
      "version": "3.7.3"
    }
  },
  "nbformat": 4,
  "nbformat_minor": 0
}